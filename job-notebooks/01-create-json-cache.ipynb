{
 "cells": [
  {
   "cell_type": "markdown",
   "metadata": {},
   "source": [
    "# Save JSON Cache File\n",
    "\n",
    "This notebook processes the JSON files into index tokens and document vectors and save to cache files"
   ]
  },
  {
   "cell_type": "code",
   "execution_count": 1,
   "metadata": {},
   "outputs": [],
   "source": [
    "%load_ext autoreload\n",
    "%autoreload 2\n",
    "from cord import ResearchPapers\n",
    "from cord.core import find_data_dir, JSON_CATALOGS, cord_cache_dir, parallel\n",
    "from cord.jsonpaper import load_json_texts, load_tokens_from_file, get_json_paths\n",
    "from pathlib import Path, PurePath\n",
    "from cord.text import preprocess\n",
    "import pandas as pd\n",
    "import numpy as np"
   ]
  },
  {
   "cell_type": "markdown",
   "metadata": {},
   "source": [
    "## Steps"
   ]
  },
  {
   "cell_type": "markdown",
   "metadata": {},
   "source": [
    "## 1. Load ResearchPapers and get metadata"
   ]
  },
  {
   "cell_type": "code",
   "execution_count": 2,
   "metadata": {},
   "outputs": [
    {
     "name": "stdout",
     "output_type": "stream",
     "text": [
      "Loading metadata from ..\\data\\CORD-19-research-challenge\n",
      "Cleaning metadata\n",
      "Applying tags to metadata\n",
      "\n",
      "Indexing research papers\n",
      "Creating the BM25 index from the abstracts of the papers\n",
      "Use index=\"text\" if you want to index the texts of the paper instead\n",
      "Finished Indexing in 41.0 seconds\n"
     ]
    }
   ],
   "source": [
    "papers = ResearchPapers.load()"
   ]
  },
  {
   "cell_type": "markdown",
   "metadata": {},
   "source": [
    "## 1. Create Index Tokens and Save"
   ]
  },
  {
   "cell_type": "code",
   "execution_count": 10,
   "metadata": {},
   "outputs": [],
   "source": [
    "from cord.jsonpaper import get_token_df\n",
    "from gensim.corpora import Dictionary\n",
    "\n",
    "def save_dictionary(dictionary, save_path):\n",
    "    print('Saving dictionary to', save_path)\n",
    "    with save_path.open('wb') as f:\n",
    "        dictionary.save(f)\n",
    "        \n",
    "def token_2ints(json_text_df):\n",
    "    dictionary = Dictionary(json_text_df.index_tokens)\n",
    "    json_text_df['token_int'] \\\n",
    "            = json_text_df.index_tokens.apply(lambda tokens:  [dictionary.token2id[t] for t in tokens])\n",
    "    return dictionary, json_text_df.drop(columns=['index_tokens'])\n",
    "\n",
    "def save_json_cache_files():\n",
    "    json_cache_path = Path(find_data_dir()).parent / 'json-cache'\n",
    "    if json_cache_path.exists():\n",
    "        print('Json Cache dir exists')\n",
    "        for cache_file in json_cache_path.glob('*.pq'):\n",
    "            print('Removing', cache_file)\n",
    "            cache_file.unlink()\n",
    "    else:\n",
    "        print('Creating directory', json_cache_path)\n",
    "        json_cache_path.mkdir(exist_ok=True)\n",
    "\n",
    "    max_df_size = 2000\n",
    "    metadata = papers.metadata\n",
    "    for catalog in JSON_CATALOGS:\n",
    "        print('Creating tokens for', catalog)\n",
    "        catalog_idx = metadata.full_text_file == catalog\n",
    "        json_text_df = get_token_df(metadata.loc[catalog_idx], papers.data_path)\n",
    "        dictionary, json_text_df = token_2ints(json_text_df)\n",
    "        save_dictionary(dictionary, json_cache_path / f'jsoncache_{catalog}.dict' )\n",
    "        catalog_save_path = json_cache_path / f'jsoncache_{catalog}.pq'\n",
    "        print('Saving to', catalog_save_path)\n",
    "        json_text_df.to_parquet(catalog_save_path)"
   ]
  },
  {
   "cell_type": "code",
   "execution_count": 11,
   "metadata": {
    "scrolled": true
   },
   "outputs": [
    {
     "name": "stdout",
     "output_type": "stream",
     "text": [
      "Json Cache dir exists\n",
      "Creating tokens for comm_use_subset\n"
     ]
    },
    {
     "data": {
      "application/vnd.jupyter.widget-view+json": {
       "model_id": "7c77e92f7d75432999961fb3206a2fe6",
       "version_major": 2,
       "version_minor": 0
      },
      "text/plain": [
       "HBox(children=(FloatProgress(value=0.0, max=9593.0), HTML(value='')))"
      ]
     },
     "metadata": {},
     "output_type": "display_data"
    },
    {
     "name": "stdout",
     "output_type": "stream",
     "text": [
      "Saving dictionary to ..\\data\\json-cache\\jsoncache_comm_use_subset.dict\n",
      "Saving to ..\\data\\json-cache\\jsoncache_comm_use_subset.pq\n",
      "Creating tokens for biorxiv_medrxiv\n"
     ]
    },
    {
     "data": {
      "application/vnd.jupyter.widget-view+json": {
       "model_id": "d3bd1c96b4ba49a189039639f8b14b39",
       "version_major": 2,
       "version_minor": 0
      },
      "text/plain": [
       "HBox(children=(FloatProgress(value=0.0, max=3073.0), HTML(value='')))"
      ]
     },
     "metadata": {},
     "output_type": "display_data"
    },
    {
     "name": "stdout",
     "output_type": "stream",
     "text": [
      "Saving dictionary to ..\\data\\json-cache\\jsoncache_biorxiv_medrxiv.dict\n",
      "Saving to ..\\data\\json-cache\\jsoncache_biorxiv_medrxiv.pq\n",
      "Creating tokens for noncomm_use_subset\n"
     ]
    },
    {
     "data": {
      "application/vnd.jupyter.widget-view+json": {
       "model_id": "13269f2c6da44f408153ddd401f5e181",
       "version_major": 2,
       "version_minor": 0
      },
      "text/plain": [
       "HBox(children=(FloatProgress(value=0.0, max=2365.0), HTML(value='')))"
      ]
     },
     "metadata": {},
     "output_type": "display_data"
    },
    {
     "name": "stdout",
     "output_type": "stream",
     "text": [
      "Saving dictionary to ..\\data\\json-cache\\jsoncache_noncomm_use_subset.dict\n",
      "Saving to ..\\data\\json-cache\\jsoncache_noncomm_use_subset.pq\n",
      "Creating tokens for custom_license\n"
     ]
    },
    {
     "data": {
      "application/vnd.jupyter.widget-view+json": {
       "model_id": "6c5c20de2b0649c181ec90f2fe903849",
       "version_major": 2,
       "version_minor": 0
      },
      "text/plain": [
       "HBox(children=(FloatProgress(value=0.0, max=35614.0), HTML(value='')))"
      ]
     },
     "metadata": {},
     "output_type": "display_data"
    },
    {
     "name": "stdout",
     "output_type": "stream",
     "text": [
      "Saving dictionary to ..\\data\\json-cache\\jsoncache_custom_license.dict\n",
      "Saving to ..\\data\\json-cache\\jsoncache_custom_license.pq\n",
      "Creating tokens for arxiv\n"
     ]
    },
    {
     "data": {
      "application/vnd.jupyter.widget-view+json": {
       "model_id": "070c02f0efd54e12b145ace84e1e7345",
       "version_major": 2,
       "version_minor": 0
      },
      "text/plain": [
       "HBox(children=(FloatProgress(value=0.0, max=781.0), HTML(value='')))"
      ]
     },
     "metadata": {},
     "output_type": "display_data"
    },
    {
     "name": "stdout",
     "output_type": "stream",
     "text": [
      "Saving dictionary to ..\\data\\json-cache\\jsoncache_arxiv.dict\n",
      "Saving to ..\\data\\json-cache\\jsoncache_arxiv.pq\n"
     ]
    }
   ],
   "source": [
    "save_json_cache_files()"
   ]
  },
  {
   "cell_type": "markdown",
   "metadata": {},
   "source": [
    "## 2. Load Research Papers"
   ]
  },
  {
   "cell_type": "code",
   "execution_count": 12,
   "metadata": {},
   "outputs": [
    {
     "name": "stdout",
     "output_type": "stream",
     "text": [
      "Loading metadata from ..\\data\\CORD-19-research-challenge\n",
      "Cleaning metadata\n",
      "Applying tags to metadata\n",
      "\n",
      "Indexing research papers\n",
      "Creating the BM25 index from the text contents of the papers\n",
      "Loading json cache files for comm_use_subset\n",
      "Loaded comm_use_subset json cache in 16 seconds\n",
      "Loading json cache files for biorxiv_medrxiv\n",
      "Loaded biorxiv_medrxiv json cache in 3 seconds\n",
      "Loading json cache files for noncomm_use_subset\n",
      "Loaded noncomm_use_subset json cache in 3 seconds\n",
      "Loading json cache files for custom_license\n",
      "Loaded custom_license json cache in 60 seconds\n",
      "Loading json cache files for arxiv\n",
      "Loaded arxiv json cache in 1 seconds\n",
      "There are 12931 papers that will be indexed using the abstract instead of the contents\n",
      "Finished indexing in 93 seconds\n"
     ]
    }
   ],
   "source": [
    "papers = ResearchPapers.load(index='text')"
   ]
  },
  {
   "cell_type": "code",
   "execution_count": 15,
   "metadata": {},
   "outputs": [],
   "source": [
    "from cord.jsonpaper import load_json_cache"
   ]
  },
  {
   "cell_type": "code",
   "execution_count": 16,
   "metadata": {},
   "outputs": [
    {
     "name": "stdout",
     "output_type": "stream",
     "text": [
      "Loading json cache files for biorxiv_medrxiv\n",
      "Loaded biorxiv_medrxiv json cache in 2 seconds\n"
     ]
    }
   ],
   "source": [
    "json_papers = load_json_cache('biorxiv_medrxiv')"
   ]
  },
  {
   "cell_type": "code",
   "execution_count": 17,
   "metadata": {},
   "outputs": [
    {
     "data": {
      "text/html": [
       "<div>\n",
       "<style scoped>\n",
       "    .dataframe tbody tr th:only-of-type {\n",
       "        vertical-align: middle;\n",
       "    }\n",
       "\n",
       "    .dataframe tbody tr th {\n",
       "        vertical-align: top;\n",
       "    }\n",
       "\n",
       "    .dataframe thead th {\n",
       "        text-align: right;\n",
       "    }\n",
       "</style>\n",
       "<table border=\"1\" class=\"dataframe\">\n",
       "  <thead>\n",
       "    <tr style=\"text-align: right;\">\n",
       "      <th></th>\n",
       "      <th>cord_uid</th>\n",
       "      <th>index_tokens</th>\n",
       "    </tr>\n",
       "  </thead>\n",
       "  <tbody>\n",
       "    <tr>\n",
       "      <th>0</th>\n",
       "      <td>vho70jcx</td>\n",
       "      <td>[many, different, methods, characterize, mixtu...</td>\n",
       "    </tr>\n",
       "    <tr>\n",
       "      <th>1</th>\n",
       "      <td>i9tbix2v</td>\n",
       "      <td>[term, metapopulation, coined, levins, 1969, d...</td>\n",
       "    </tr>\n",
       "    <tr>\n",
       "      <th>2</th>\n",
       "      <td>62gfisc6</td>\n",
       "      <td>[antibodies, essential, components, immune, sy...</td>\n",
       "    </tr>\n",
       "    <tr>\n",
       "      <th>3</th>\n",
       "      <td>058r9486</td>\n",
       "      <td>[metagenomics, defined, analysis, collection, ...</td>\n",
       "    </tr>\n",
       "    <tr>\n",
       "      <th>4</th>\n",
       "      <td>wich35l7</td>\n",
       "      <td>[schematic, transmission, links, overlaid, phy...</td>\n",
       "    </tr>\n",
       "    <tr>\n",
       "      <th>...</th>\n",
       "      <td>...</td>\n",
       "      <td>...</td>\n",
       "    </tr>\n",
       "    <tr>\n",
       "      <th>2610</th>\n",
       "      <td>xfoqd6uk</td>\n",
       "      <td>[human, pathogenic, potential, zoonotic, infec...</td>\n",
       "    </tr>\n",
       "    <tr>\n",
       "      <th>2611</th>\n",
       "      <td>cne5whf5</td>\n",
       "      <td>[y4f, restored, following, vaccination, prolin...</td>\n",
       "    </tr>\n",
       "    <tr>\n",
       "      <th>2612</th>\n",
       "      <td>xbfpgczp</td>\n",
       "      <td>[recent, decades, many, new, flavi-like, virus...</td>\n",
       "    </tr>\n",
       "    <tr>\n",
       "      <th>2613</th>\n",
       "      <td>3l8pm0t5</td>\n",
       "      <td>[binge, eating, operationally, defined, consum...</td>\n",
       "    </tr>\n",
       "    <tr>\n",
       "      <th>2614</th>\n",
       "      <td>y5sqdjfj</td>\n",
       "      <td>[urodynamic, studies, cystometrograms, cmgs, u...</td>\n",
       "    </tr>\n",
       "  </tbody>\n",
       "</table>\n",
       "<p>2278 rows × 2 columns</p>\n",
       "</div>"
      ],
      "text/plain": [
       "      cord_uid                                       index_tokens\n",
       "0     vho70jcx  [many, different, methods, characterize, mixtu...\n",
       "1     i9tbix2v  [term, metapopulation, coined, levins, 1969, d...\n",
       "2     62gfisc6  [antibodies, essential, components, immune, sy...\n",
       "3     058r9486  [metagenomics, defined, analysis, collection, ...\n",
       "4     wich35l7  [schematic, transmission, links, overlaid, phy...\n",
       "...        ...                                                ...\n",
       "2610  xfoqd6uk  [human, pathogenic, potential, zoonotic, infec...\n",
       "2611  cne5whf5  [y4f, restored, following, vaccination, prolin...\n",
       "2612  xbfpgczp  [recent, decades, many, new, flavi-like, virus...\n",
       "2613  3l8pm0t5  [binge, eating, operationally, defined, consum...\n",
       "2614  y5sqdjfj  [urodynamic, studies, cystometrograms, cmgs, u...\n",
       "\n",
       "[2278 rows x 2 columns]"
      ]
     },
     "execution_count": 17,
     "metadata": {},
     "output_type": "execute_result"
    }
   ],
   "source": [
    "json_papers"
   ]
  },
  {
   "cell_type": "code",
   "execution_count": 22,
   "metadata": {},
   "outputs": [],
   "source": [
    "meta_df = papers.metadata[['cord_uid']].merge(json_papers, on='cord_uid', how='left')"
   ]
  },
  {
   "cell_type": "code",
   "execution_count": 46,
   "metadata": {},
   "outputs": [
    {
     "name": "stdout",
     "output_type": "stream",
     "text": [
      "Loading json cache files for comm_use_subset\n",
      "Loaded comm_use_subset json cache in 18 seconds\n",
      "Loading json cache files for biorxiv_medrxiv\n",
      "Loaded biorxiv_medrxiv json cache in 2 seconds\n",
      "Loading json cache files for noncomm_use_subset\n",
      "Loaded noncomm_use_subset json cache in 3 seconds\n",
      "Loading json cache files for custom_license\n",
      "Loaded custom_license json cache in 63 seconds\n"
     ]
    }
   ],
   "source": [
    "#papers.metadata = papers.metadata.drop(columns=['index_tokens'])\n",
    "papers.metadata['index_tokens'] = np.nan\n",
    "for catalog in JSON_CATALOGS:\n",
    "    catalog_idx = papers.metadata.full_text_file == catalog \n",
    "    metadata_papers = papers.metadata.loc[catalog_idx, ['cord_uid']].copy().reset_index()\n",
    "    json_tokens = load_json_cache(catalog).set_index('cord_uid')\n",
    "    token_lookup = json_tokens.to_dict()['index_tokens']\n",
    "    papers.metadata.loc[catalog_idx, 'index_tokens'] = \\\n",
    "            papers.metadata.loc[catalog_idx, 'cord_uid'].apply(lambda c: token_lookup.get(c, np.nan))"
   ]
  },
  {
   "cell_type": "code",
   "execution_count": 48,
   "metadata": {},
   "outputs": [
    {
     "data": {
      "text/html": [
       "<div>\n",
       "<style scoped>\n",
       "    .dataframe tbody tr th:only-of-type {\n",
       "        vertical-align: middle;\n",
       "    }\n",
       "\n",
       "    .dataframe tbody tr th {\n",
       "        vertical-align: top;\n",
       "    }\n",
       "\n",
       "    .dataframe thead th {\n",
       "        text-align: right;\n",
       "    }\n",
       "</style>\n",
       "<table border=\"1\" class=\"dataframe\">\n",
       "  <thead>\n",
       "    <tr style=\"text-align: right;\">\n",
       "      <th></th>\n",
       "      <th>cord_uid</th>\n",
       "      <th>sha</th>\n",
       "      <th>source</th>\n",
       "      <th>title</th>\n",
       "      <th>doi</th>\n",
       "      <th>pmcid</th>\n",
       "      <th>pubmed_id</th>\n",
       "      <th>license</th>\n",
       "      <th>abstract</th>\n",
       "      <th>published</th>\n",
       "      <th>...</th>\n",
       "      <th>has_pmc_xml_parse</th>\n",
       "      <th>full_text_file</th>\n",
       "      <th>url</th>\n",
       "      <th>when</th>\n",
       "      <th>covid_related</th>\n",
       "      <th>virus</th>\n",
       "      <th>coronavirus</th>\n",
       "      <th>sars</th>\n",
       "      <th>antivirals</th>\n",
       "      <th>index_tokens</th>\n",
       "    </tr>\n",
       "  </thead>\n",
       "  <tbody>\n",
       "    <tr>\n",
       "      <th>207</th>\n",
       "      <td>28wrp74k</td>\n",
       "      <td>NaN</td>\n",
       "      <td>PMC</td>\n",
       "      <td>SARS and Population Health Technology</td>\n",
       "      <td>10.2196/jmir.5.2.e14</td>\n",
       "      <td>PMC1550560</td>\n",
       "      <td>12857670</td>\n",
       "      <td>cc-by</td>\n",
       "      <td>The recent global outbreak of SARS (severe acu...</td>\n",
       "      <td>2003-06-30</td>\n",
       "      <td>...</td>\n",
       "      <td>False</td>\n",
       "      <td>NaN</td>\n",
       "      <td>https://www.ncbi.nlm.nih.gov/pmc/articles/PMC1...</td>\n",
       "      <td>17 years ago</td>\n",
       "      <td>False</td>\n",
       "      <td>False</td>\n",
       "      <td>False</td>\n",
       "      <td>True</td>\n",
       "      <td></td>\n",
       "      <td>NaN</td>\n",
       "    </tr>\n",
       "    <tr>\n",
       "      <th>208</th>\n",
       "      <td>8f0pn321</td>\n",
       "      <td>NaN</td>\n",
       "      <td>PMC</td>\n",
       "      <td>The Internet as a Vehicle to Communicate Healt...</td>\n",
       "      <td>10.2196/jmir.6.1.e8</td>\n",
       "      <td>PMC1550585</td>\n",
       "      <td>15111274</td>\n",
       "      <td>cc-by</td>\n",
       "      <td>: The recent public health risks arising from ...</td>\n",
       "      <td>2004-03-03</td>\n",
       "      <td>...</td>\n",
       "      <td>False</td>\n",
       "      <td>NaN</td>\n",
       "      <td>https://www.ncbi.nlm.nih.gov/pmc/articles/PMC1...</td>\n",
       "      <td>16 years ago</td>\n",
       "      <td>False</td>\n",
       "      <td>False</td>\n",
       "      <td>False</td>\n",
       "      <td>True</td>\n",
       "      <td></td>\n",
       "      <td>NaN</td>\n",
       "    </tr>\n",
       "    <tr>\n",
       "      <th>786</th>\n",
       "      <td>g4puurhk</td>\n",
       "      <td>NaN</td>\n",
       "      <td>PMC</td>\n",
       "      <td>Role of nitric oxide in management of acute re...</td>\n",
       "      <td>10.4103/1817-1737.41914</td>\n",
       "      <td>PMC2700444</td>\n",
       "      <td>19561888</td>\n",
       "      <td>cc-by</td>\n",
       "      <td>The current mortality rate of patients sufferi...</td>\n",
       "      <td>2008-01-01</td>\n",
       "      <td>...</td>\n",
       "      <td>False</td>\n",
       "      <td>NaN</td>\n",
       "      <td>https://www.ncbi.nlm.nih.gov/pmc/articles/PMC2...</td>\n",
       "      <td>12 years ago</td>\n",
       "      <td>False</td>\n",
       "      <td>False</td>\n",
       "      <td>False</td>\n",
       "      <td>False</td>\n",
       "      <td></td>\n",
       "      <td>NaN</td>\n",
       "    </tr>\n",
       "    <tr>\n",
       "      <th>787</th>\n",
       "      <td>ke0tkpso</td>\n",
       "      <td>NaN</td>\n",
       "      <td>PMC</td>\n",
       "      <td>Avian influenza: The tip of the iceberg</td>\n",
       "      <td>10.4103/1817-1737.43085</td>\n",
       "      <td>PMC2700449</td>\n",
       "      <td>19561900</td>\n",
       "      <td>cc-by</td>\n",
       "      <td>For some years now, we have been living with t...</td>\n",
       "      <td>2008-01-01</td>\n",
       "      <td>...</td>\n",
       "      <td>False</td>\n",
       "      <td>NaN</td>\n",
       "      <td>https://www.ncbi.nlm.nih.gov/pmc/articles/PMC2...</td>\n",
       "      <td>12 years ago</td>\n",
       "      <td>False</td>\n",
       "      <td>True</td>\n",
       "      <td>False</td>\n",
       "      <td>False</td>\n",
       "      <td></td>\n",
       "      <td>NaN</td>\n",
       "    </tr>\n",
       "    <tr>\n",
       "      <th>820</th>\n",
       "      <td>t579ysgl</td>\n",
       "      <td>NaN</td>\n",
       "      <td>PMC</td>\n",
       "      <td>Reading chest radiographs in the critically il...</td>\n",
       "      <td>10.4103/1817-1737.53349</td>\n",
       "      <td>PMC2714572</td>\n",
       "      <td>19641649</td>\n",
       "      <td>cc-by</td>\n",
       "      <td>This is part II of two series review of readin...</td>\n",
       "      <td>2009-01-01</td>\n",
       "      <td>...</td>\n",
       "      <td>False</td>\n",
       "      <td>NaN</td>\n",
       "      <td>https://www.ncbi.nlm.nih.gov/pmc/articles/PMC2...</td>\n",
       "      <td>11 years ago</td>\n",
       "      <td>False</td>\n",
       "      <td>False</td>\n",
       "      <td>False</td>\n",
       "      <td>False</td>\n",
       "      <td></td>\n",
       "      <td>NaN</td>\n",
       "    </tr>\n",
       "    <tr>\n",
       "      <th>...</th>\n",
       "      <td>...</td>\n",
       "      <td>...</td>\n",
       "      <td>...</td>\n",
       "      <td>...</td>\n",
       "      <td>...</td>\n",
       "      <td>...</td>\n",
       "      <td>...</td>\n",
       "      <td>...</td>\n",
       "      <td>...</td>\n",
       "      <td>...</td>\n",
       "      <td>...</td>\n",
       "      <td>...</td>\n",
       "      <td>...</td>\n",
       "      <td>...</td>\n",
       "      <td>...</td>\n",
       "      <td>...</td>\n",
       "      <td>...</td>\n",
       "      <td>...</td>\n",
       "      <td>...</td>\n",
       "      <td>...</td>\n",
       "      <td>...</td>\n",
       "    </tr>\n",
       "    <tr>\n",
       "      <th>57301</th>\n",
       "      <td>xbk1sfe6</td>\n",
       "      <td>NaN</td>\n",
       "      <td>Elsevier</td>\n",
       "      <td>Chloroquine : pas d’efficacité sur le virus Ebola</td>\n",
       "      <td>10.1016/s1773-035x(15)30286-0</td>\n",
       "      <td>PMC7140263</td>\n",
       "      <td>NaN</td>\n",
       "      <td>els-covid</td>\n",
       "      <td>Chloroquine : pas d’efficacité sur le virus Ebola</td>\n",
       "      <td>2015-11-30</td>\n",
       "      <td>...</td>\n",
       "      <td>False</td>\n",
       "      <td>custom_license</td>\n",
       "      <td>https://doi.org/10.1016/s1773-035x(15)30286-0</td>\n",
       "      <td>4 years ago</td>\n",
       "      <td>False</td>\n",
       "      <td>True</td>\n",
       "      <td>False</td>\n",
       "      <td>False</td>\n",
       "      <td></td>\n",
       "      <td>NaN</td>\n",
       "    </tr>\n",
       "    <tr>\n",
       "      <th>57317</th>\n",
       "      <td>j2p3ila5</td>\n",
       "      <td>NaN</td>\n",
       "      <td>Elsevier</td>\n",
       "      <td>Corrigendum to “Geranylated flavonoids display...</td>\n",
       "      <td>10.1016/j.bmc.2013.09.005</td>\n",
       "      <td>PMC7134925</td>\n",
       "      <td>NaN</td>\n",
       "      <td>els-covid</td>\n",
       "      <td>Corrigendum to “Geranylated flavonoids display...</td>\n",
       "      <td>2013-11-15</td>\n",
       "      <td>...</td>\n",
       "      <td>False</td>\n",
       "      <td>custom_license</td>\n",
       "      <td>https://doi.org/10.1016/j.bmc.2013.09.005</td>\n",
       "      <td>6 years ago</td>\n",
       "      <td>False</td>\n",
       "      <td>False</td>\n",
       "      <td>False</td>\n",
       "      <td>True</td>\n",
       "      <td></td>\n",
       "      <td>NaN</td>\n",
       "    </tr>\n",
       "    <tr>\n",
       "      <th>57327</th>\n",
       "      <td>f0imq00c</td>\n",
       "      <td>NaN</td>\n",
       "      <td>Elsevier</td>\n",
       "      <td>WHO declares Beijing to be free of SARS</td>\n",
       "      <td>10.1016/s0140-6736(03)13790-7</td>\n",
       "      <td>PMC7134624</td>\n",
       "      <td>12846245</td>\n",
       "      <td>els-covid</td>\n",
       "      <td>WHO declares Beijing to be free of SARS</td>\n",
       "      <td>2003-06-28</td>\n",
       "      <td>...</td>\n",
       "      <td>False</td>\n",
       "      <td>custom_license</td>\n",
       "      <td>https://doi.org/10.1016/s0140-6736(03)13790-7</td>\n",
       "      <td>17 years ago</td>\n",
       "      <td>False</td>\n",
       "      <td>False</td>\n",
       "      <td>False</td>\n",
       "      <td>True</td>\n",
       "      <td></td>\n",
       "      <td>NaN</td>\n",
       "    </tr>\n",
       "    <tr>\n",
       "      <th>57328</th>\n",
       "      <td>8184gegh</td>\n",
       "      <td>NaN</td>\n",
       "      <td>Elsevier</td>\n",
       "      <td>2 The morphology of virus particles. Classific...</td>\n",
       "      <td>10.1016/b978-0-407-00253-1.50007-4</td>\n",
       "      <td>PMC7151944</td>\n",
       "      <td>NaN</td>\n",
       "      <td>els-covid</td>\n",
       "      <td>This chapter focuses on the studies on morph...</td>\n",
       "      <td>1983-12-31</td>\n",
       "      <td>...</td>\n",
       "      <td>False</td>\n",
       "      <td>custom_license</td>\n",
       "      <td>https://doi.org/10.1016/b978-0-407-00253-1.500...</td>\n",
       "      <td>36 years ago</td>\n",
       "      <td>False</td>\n",
       "      <td>True</td>\n",
       "      <td>True</td>\n",
       "      <td>False</td>\n",
       "      <td></td>\n",
       "      <td>NaN</td>\n",
       "    </tr>\n",
       "    <tr>\n",
       "      <th>57333</th>\n",
       "      <td>43zza6m6</td>\n",
       "      <td>NaN</td>\n",
       "      <td>Elsevier</td>\n",
       "      <td></td>\n",
       "      <td>10.1016/s0140-6736(09)61042-4</td>\n",
       "      <td>PMC7137788</td>\n",
       "      <td>19501725</td>\n",
       "      <td>els-covid</td>\n",
       "      <td></td>\n",
       "      <td>2009-06-12</td>\n",
       "      <td>...</td>\n",
       "      <td>False</td>\n",
       "      <td>custom_license</td>\n",
       "      <td>https://doi.org/10.1016/s0140-6736(09)61042-4</td>\n",
       "      <td>11 years ago</td>\n",
       "      <td>False</td>\n",
       "      <td>False</td>\n",
       "      <td>False</td>\n",
       "      <td>False</td>\n",
       "      <td></td>\n",
       "      <td>NaN</td>\n",
       "    </tr>\n",
       "  </tbody>\n",
       "</table>\n",
       "<p>12714 rows × 25 columns</p>\n",
       "</div>"
      ],
      "text/plain": [
       "       cord_uid  sha    source  \\\n",
       "207    28wrp74k  NaN       PMC   \n",
       "208    8f0pn321  NaN       PMC   \n",
       "786    g4puurhk  NaN       PMC   \n",
       "787    ke0tkpso  NaN       PMC   \n",
       "820    t579ysgl  NaN       PMC   \n",
       "...         ...  ...       ...   \n",
       "57301  xbk1sfe6  NaN  Elsevier   \n",
       "57317  j2p3ila5  NaN  Elsevier   \n",
       "57327  f0imq00c  NaN  Elsevier   \n",
       "57328  8184gegh  NaN  Elsevier   \n",
       "57333  43zza6m6  NaN  Elsevier   \n",
       "\n",
       "                                                   title  \\\n",
       "207                SARS and Population Health Technology   \n",
       "208    The Internet as a Vehicle to Communicate Healt...   \n",
       "786    Role of nitric oxide in management of acute re...   \n",
       "787              Avian influenza: The tip of the iceberg   \n",
       "820    Reading chest radiographs in the critically il...   \n",
       "...                                                  ...   \n",
       "57301  Chloroquine : pas d’efficacité sur le virus Ebola   \n",
       "57317  Corrigendum to “Geranylated flavonoids display...   \n",
       "57327            WHO declares Beijing to be free of SARS   \n",
       "57328  2 The morphology of virus particles. Classific...   \n",
       "57333                                                      \n",
       "\n",
       "                                      doi       pmcid pubmed_id    license  \\\n",
       "207                  10.2196/jmir.5.2.e14  PMC1550560  12857670      cc-by   \n",
       "208                   10.2196/jmir.6.1.e8  PMC1550585  15111274      cc-by   \n",
       "786               10.4103/1817-1737.41914  PMC2700444  19561888      cc-by   \n",
       "787               10.4103/1817-1737.43085  PMC2700449  19561900      cc-by   \n",
       "820               10.4103/1817-1737.53349  PMC2714572  19641649      cc-by   \n",
       "...                                   ...         ...       ...        ...   \n",
       "57301       10.1016/s1773-035x(15)30286-0  PMC7140263       NaN  els-covid   \n",
       "57317           10.1016/j.bmc.2013.09.005  PMC7134925       NaN  els-covid   \n",
       "57327       10.1016/s0140-6736(03)13790-7  PMC7134624  12846245  els-covid   \n",
       "57328  10.1016/b978-0-407-00253-1.50007-4  PMC7151944       NaN  els-covid   \n",
       "57333       10.1016/s0140-6736(09)61042-4  PMC7137788  19501725  els-covid   \n",
       "\n",
       "                                                abstract  published  ...  \\\n",
       "207    The recent global outbreak of SARS (severe acu... 2003-06-30  ...   \n",
       "208    : The recent public health risks arising from ... 2004-03-03  ...   \n",
       "786    The current mortality rate of patients sufferi... 2008-01-01  ...   \n",
       "787    For some years now, we have been living with t... 2008-01-01  ...   \n",
       "820    This is part II of two series review of readin... 2009-01-01  ...   \n",
       "...                                                  ...        ...  ...   \n",
       "57301  Chloroquine : pas d’efficacité sur le virus Ebola 2015-11-30  ...   \n",
       "57317  Corrigendum to “Geranylated flavonoids display... 2013-11-15  ...   \n",
       "57327            WHO declares Beijing to be free of SARS 2003-06-28  ...   \n",
       "57328    This chapter focuses on the studies on morph... 1983-12-31  ...   \n",
       "57333                                                    2009-06-12  ...   \n",
       "\n",
       "      has_pmc_xml_parse  full_text_file  \\\n",
       "207               False             NaN   \n",
       "208               False             NaN   \n",
       "786               False             NaN   \n",
       "787               False             NaN   \n",
       "820               False             NaN   \n",
       "...                 ...             ...   \n",
       "57301             False  custom_license   \n",
       "57317             False  custom_license   \n",
       "57327             False  custom_license   \n",
       "57328             False  custom_license   \n",
       "57333             False  custom_license   \n",
       "\n",
       "                                                     url          when  \\\n",
       "207    https://www.ncbi.nlm.nih.gov/pmc/articles/PMC1...  17 years ago   \n",
       "208    https://www.ncbi.nlm.nih.gov/pmc/articles/PMC1...  16 years ago   \n",
       "786    https://www.ncbi.nlm.nih.gov/pmc/articles/PMC2...  12 years ago   \n",
       "787    https://www.ncbi.nlm.nih.gov/pmc/articles/PMC2...  12 years ago   \n",
       "820    https://www.ncbi.nlm.nih.gov/pmc/articles/PMC2...  11 years ago   \n",
       "...                                                  ...           ...   \n",
       "57301      https://doi.org/10.1016/s1773-035x(15)30286-0   4 years ago   \n",
       "57317          https://doi.org/10.1016/j.bmc.2013.09.005   6 years ago   \n",
       "57327      https://doi.org/10.1016/s0140-6736(03)13790-7  17 years ago   \n",
       "57328  https://doi.org/10.1016/b978-0-407-00253-1.500...  36 years ago   \n",
       "57333      https://doi.org/10.1016/s0140-6736(09)61042-4  11 years ago   \n",
       "\n",
       "       covid_related  virus coronavirus   sars antivirals  index_tokens  \n",
       "207            False  False       False   True                      NaN  \n",
       "208            False  False       False   True                      NaN  \n",
       "786            False  False       False  False                      NaN  \n",
       "787            False   True       False  False                      NaN  \n",
       "820            False  False       False  False                      NaN  \n",
       "...              ...    ...         ...    ...        ...           ...  \n",
       "57301          False   True       False  False                      NaN  \n",
       "57317          False  False       False   True                      NaN  \n",
       "57327          False  False       False   True                      NaN  \n",
       "57328          False   True        True  False                      NaN  \n",
       "57333          False  False       False  False                      NaN  \n",
       "\n",
       "[12714 rows x 25 columns]"
      ]
     },
     "execution_count": 48,
     "metadata": {},
     "output_type": "execute_result"
    }
   ],
   "source": [
    "papers.metadata.query(\"index_tokens.isnull()\")"
   ]
  },
  {
   "cell_type": "code",
   "execution_count": null,
   "metadata": {},
   "outputs": [],
   "source": []
  }
 ],
 "metadata": {
  "kernelspec": {
   "display_name": "cord",
   "language": "python",
   "name": "cord"
  },
  "language_info": {
   "codemirror_mode": {
    "name": "ipython",
    "version": 3
   },
   "file_extension": ".py",
   "mimetype": "text/x-python",
   "name": "python",
   "nbconvert_exporter": "python",
   "pygments_lexer": "ipython3",
   "version": "3.7.0"
  }
 },
 "nbformat": 4,
 "nbformat_minor": 4
}
