{
 "cells": [
  {
   "cell_type": "markdown",
   "metadata": {},
   "source": [
    "# Save JSON Cache File\n",
    "\n",
    "This notebook processes the JSON files into index tokens and document vectors and save to cache files"
   ]
  },
  {
   "cell_type": "code",
   "execution_count": 5,
   "metadata": {},
   "outputs": [
    {
     "name": "stdout",
     "output_type": "stream",
     "text": [
      "The autoreload extension is already loaded. To reload it, use:\n",
      "  %reload_ext autoreload\n"
     ]
    }
   ],
   "source": [
    "%load_ext autoreload\n",
    "%autoreload 2\n",
    "from cord import ResearchPapers\n",
    "from cord.core import find_data_dir, JSON_CATALOGS, cord_cache_dir\n",
    "from cord.jsonpaper import load_json_texts\n",
    "from pathlib import Path, PurePath\n",
    "import pandas as pd"
   ]
  },
  {
   "cell_type": "markdown",
   "metadata": {},
   "source": [
    "## Functions"
   ]
  },
  {
   "cell_type": "markdown",
   "metadata": {},
   "source": [
    "## 1. Create Index Tokens and Save"
   ]
  },
  {
   "cell_type": "code",
   "execution_count": 12,
   "metadata": {},
   "outputs": [],
   "source": [
    "from gensim.corpora.dictionary import Dictionary\n",
    "import pickle\n",
    "\n",
    "def save_dictionary(dictionary, save_path):\n",
    "    print('Saving dictionary to', save_path)\n",
    "    with save_path.open('wb') as f:\n",
    "        dictionary.save(f)\n",
    "        \n",
    "def token_2ints(json_text_df):\n",
    "    dictionary = Dictionary(json_text_df.index_tokens)\n",
    "    json_text_df['token_int'] \\\n",
    "            = json_text_df.index_tokens.apply(lambda tokens:  [dictionary.token2id[t] for t in tokens])\n",
    "    return dictionary, json_text_df.drop(columns=['index_tokens'])\n",
    "\n",
    "\n",
    "def save_json_cache_files():\n",
    "    json_cache_path = Path(find_data_dir()).parent / 'json-cache'\n",
    "    if json_cache_path.exists():\n",
    "        print('Json Cache dir exists')\n",
    "        for cache_file in json_cache_path.glob('*.pq'):\n",
    "            print('Removing', cache_file)\n",
    "            cache_file.unlink()\n",
    "    else:\n",
    "        print('Creating directory', json_cache_path)\n",
    "        json_cache_path.mkdir(exist_ok=True)\n",
    "\n",
    "    max_df_size = 2000\n",
    "    for catalog in JSON_CATALOGS:\n",
    "        json_text_df = load_json_texts(catalog, tokenize=True)\n",
    "        dictionary, json_text_df = token_2ints(json_text_df)\n",
    "        # Don't use the authors column\n",
    "        json_text_df = json_text_df\n",
    "        save_dictionary(dictionary, json_cache_path / f'jsoncache_{catalog}.dict' )\n",
    "        #if catalog in [BIORXIV_MEDRXIV, NONCOMM_USE_SUBSET]:\n",
    "        catalog_save_path = json_cache_path / f'jsoncache_{catalog}.pq'\n",
    "        print('Saving to', catalog_save_path)\n",
    "        json_text_df.to_parquet(catalog_save_path)"
   ]
  },
  {
   "cell_type": "code",
   "execution_count": 13,
   "metadata": {
    "scrolled": true
   },
   "outputs": [
    {
     "name": "stdout",
     "output_type": "stream",
     "text": [
      "Json Cache dir exists\n",
      "Loading json from comm_use_subset\n"
     ]
    },
    {
     "data": {
      "application/vnd.jupyter.widget-view+json": {
       "model_id": "0c235ea8e410437e937a36f797c4d836",
       "version_major": 2,
       "version_minor": 0
      },
      "text/plain": [
       "HBox(children=(FloatProgress(value=0.0, max=18746.0), HTML(value='')))"
      ]
     },
     "metadata": {},
     "output_type": "display_data"
    },
    {
     "name": "stdout",
     "output_type": "stream",
     "text": [
      "Saving dictionary to ..\\data\\json-cache\\jsoncache_comm_use_subset.dict\n",
      "Saving to ..\\data\\json-cache\\jsoncache_comm_use_subset.pq\n",
      "Loading json from biorxiv_medrxiv\n"
     ]
    },
    {
     "data": {
      "application/vnd.jupyter.widget-view+json": {
       "model_id": "3a5b132a270143d586aa64d0d54224df",
       "version_major": 2,
       "version_minor": 0
      },
      "text/plain": [
       "HBox(children=(FloatProgress(value=0.0, max=1934.0), HTML(value='')))"
      ]
     },
     "metadata": {},
     "output_type": "display_data"
    },
    {
     "name": "stdout",
     "output_type": "stream",
     "text": [
      "Saving dictionary to ..\\data\\json-cache\\jsoncache_biorxiv_medrxiv.dict\n",
      "Saving to ..\\data\\json-cache\\jsoncache_biorxiv_medrxiv.pq\n",
      "Loading json from noncomm_use_subset\n"
     ]
    },
    {
     "data": {
      "application/vnd.jupyter.widget-view+json": {
       "model_id": "4323080da6e142d8b902bf4bed17d918",
       "version_major": 2,
       "version_minor": 0
      },
      "text/plain": [
       "HBox(children=(FloatProgress(value=0.0, max=4678.0), HTML(value='')))"
      ]
     },
     "metadata": {},
     "output_type": "display_data"
    },
    {
     "name": "stdout",
     "output_type": "stream",
     "text": [
      "Saving dictionary to ..\\data\\json-cache\\jsoncache_noncomm_use_subset.dict\n",
      "Saving to ..\\data\\json-cache\\jsoncache_noncomm_use_subset.pq\n",
      "Loading json from custom_license\n"
     ]
    },
    {
     "data": {
      "application/vnd.jupyter.widget-view+json": {
       "model_id": "7438208db50e4de49a3c261fb3f484ae",
       "version_major": 2,
       "version_minor": 0
      },
      "text/plain": [
       "HBox(children=(FloatProgress(value=0.0, max=35238.0), HTML(value='')))"
      ]
     },
     "metadata": {},
     "output_type": "display_data"
    },
    {
     "name": "stdout",
     "output_type": "stream",
     "text": [
      "Saving dictionary to ..\\data\\json-cache\\jsoncache_custom_license.dict\n",
      "Saving to ..\\data\\json-cache\\jsoncache_custom_license.pq\n"
     ]
    }
   ],
   "source": [
    "save_json_cache_files()"
   ]
  },
  {
   "cell_type": "markdown",
   "metadata": {},
   "source": [
    "## 2. Load Research Papers"
   ]
  },
  {
   "cell_type": "code",
   "execution_count": 2,
   "metadata": {},
   "outputs": [
    {
     "name": "stdout",
     "output_type": "stream",
     "text": [
      "Loading metadata from ..\\data\\CORD-19-research-challenge\n",
      "Cleaning metadata\n",
      "Applying tags to metadata\n",
      "\n",
      "Indexing research papers\n",
      "Creating the BM25 index from the text contents of the papers\n",
      "Loading json cache files for comm_use_subset\n",
      "Loaded comm_use_subset json cache in 35 seconds\n",
      "Json document tokens loaded from cache\n",
      "Loading json cache files for biorxiv_medrxiv\n",
      "Loaded biorxiv_medrxiv json cache in 2 seconds\n",
      "Json document tokens loaded from cache\n",
      "Loading json cache files for noncomm_use_subset\n",
      "Loaded noncomm_use_subset json cache in 7 seconds\n",
      "Json document tokens loaded from cache\n",
      "Loading json cache files for custom_license\n",
      "Loaded custom_license json cache in 67 seconds\n",
      "Json document tokens loaded from cache\n",
      "There are 13374 papers that will be indexed using the abstract instead of the contents\n",
      "Finished indexing in 121 seconds\n"
     ]
    }
   ],
   "source": [
    "papers = ResearchPapers.load(index='text')"
   ]
  },
  {
   "cell_type": "code",
   "execution_count": 3,
   "metadata": {},
   "outputs": [
    {
     "data": {
      "text/html": [
       "<div>\n",
       "<style scoped>\n",
       "    .dataframe tbody tr th:only-of-type {\n",
       "        vertical-align: middle;\n",
       "    }\n",
       "\n",
       "    .dataframe tbody tr th {\n",
       "        vertical-align: top;\n",
       "    }\n",
       "\n",
       "    .dataframe thead th {\n",
       "        text-align: right;\n",
       "    }\n",
       "</style>\n",
       "<table border=\"1\" class=\"dataframe\">\n",
       "  <thead>\n",
       "    <tr style=\"text-align: right;\">\n",
       "      <th></th>\n",
       "      <th>non-null</th>\n",
       "      <th>null</th>\n",
       "      <th>unique</th>\n",
       "      <th>duplicate</th>\n",
       "      <th>most common</th>\n",
       "    </tr>\n",
       "  </thead>\n",
       "  <tbody>\n",
       "    <tr>\n",
       "      <th>cord_uid</th>\n",
       "      <td>52398</td>\n",
       "      <td>0</td>\n",
       "      <td>52365</td>\n",
       "      <td>33</td>\n",
       "      <td>4fbr8fx8</td>\n",
       "    </tr>\n",
       "    <tr>\n",
       "      <th>source</th>\n",
       "      <td>52398</td>\n",
       "      <td>0</td>\n",
       "      <td>6</td>\n",
       "      <td>52392</td>\n",
       "      <td>PMC</td>\n",
       "    </tr>\n",
       "    <tr>\n",
       "      <th>title</th>\n",
       "      <td>52398</td>\n",
       "      <td>0</td>\n",
       "      <td>49482</td>\n",
       "      <td>2916</td>\n",
       "      <td></td>\n",
       "    </tr>\n",
       "    <tr>\n",
       "      <th>doi</th>\n",
       "      <td>52398</td>\n",
       "      <td>0</td>\n",
       "      <td>49043</td>\n",
       "      <td>3355</td>\n",
       "      <td></td>\n",
       "    </tr>\n",
       "    <tr>\n",
       "      <th>pmcid</th>\n",
       "      <td>43652</td>\n",
       "      <td>8746</td>\n",
       "      <td>43652</td>\n",
       "      <td>0</td>\n",
       "      <td>PMC7134875</td>\n",
       "    </tr>\n",
       "    <tr>\n",
       "      <th>pubmed_id</th>\n",
       "      <td>38058</td>\n",
       "      <td>14340</td>\n",
       "      <td>38031</td>\n",
       "      <td>27</td>\n",
       "      <td>15161626</td>\n",
       "    </tr>\n",
       "    <tr>\n",
       "      <th>license</th>\n",
       "      <td>52398</td>\n",
       "      <td>0</td>\n",
       "      <td>13</td>\n",
       "      <td>52385</td>\n",
       "      <td>els-covid</td>\n",
       "    </tr>\n",
       "    <tr>\n",
       "      <th>abstract</th>\n",
       "      <td>52398</td>\n",
       "      <td>0</td>\n",
       "      <td>50533</td>\n",
       "      <td>1865</td>\n",
       "      <td></td>\n",
       "    </tr>\n",
       "    <tr>\n",
       "      <th>published</th>\n",
       "      <td>52390</td>\n",
       "      <td>8</td>\n",
       "      <td>6484</td>\n",
       "      <td>45906</td>\n",
       "      <td>2020-01-01 00:00:00</td>\n",
       "    </tr>\n",
       "    <tr>\n",
       "      <th>authors</th>\n",
       "      <td>52398</td>\n",
       "      <td>0</td>\n",
       "      <td>47805</td>\n",
       "      <td>4593</td>\n",
       "      <td></td>\n",
       "    </tr>\n",
       "    <tr>\n",
       "      <th>journal</th>\n",
       "      <td>52398</td>\n",
       "      <td>0</td>\n",
       "      <td>6321</td>\n",
       "      <td>46077</td>\n",
       "      <td></td>\n",
       "    </tr>\n",
       "    <tr>\n",
       "      <th>Microsoft Academic Paper ID</th>\n",
       "      <td>964</td>\n",
       "      <td>51434</td>\n",
       "      <td>765</td>\n",
       "      <td>199</td>\n",
       "      <td>3006645647</td>\n",
       "    </tr>\n",
       "    <tr>\n",
       "      <th>WHO #Covidence</th>\n",
       "      <td>1768</td>\n",
       "      <td>50630</td>\n",
       "      <td>1768</td>\n",
       "      <td>0</td>\n",
       "      <td>#5189</td>\n",
       "    </tr>\n",
       "    <tr>\n",
       "      <th>has_pdf_parse</th>\n",
       "      <td>52398</td>\n",
       "      <td>0</td>\n",
       "      <td>2</td>\n",
       "      <td>52396</td>\n",
       "      <td>True</td>\n",
       "    </tr>\n",
       "    <tr>\n",
       "      <th>has_pmc_xml_parse</th>\n",
       "      <td>52398</td>\n",
       "      <td>0</td>\n",
       "      <td>2</td>\n",
       "      <td>52396</td>\n",
       "      <td>False</td>\n",
       "    </tr>\n",
       "    <tr>\n",
       "      <th>full_text_file</th>\n",
       "      <td>43794</td>\n",
       "      <td>8604</td>\n",
       "      <td>4</td>\n",
       "      <td>43790</td>\n",
       "      <td>custom_license</td>\n",
       "    </tr>\n",
       "    <tr>\n",
       "      <th>url</th>\n",
       "      <td>52096</td>\n",
       "      <td>302</td>\n",
       "      <td>52092</td>\n",
       "      <td>4</td>\n",
       "      <td>http://www.hcup-us.ahrq.gov/reports/statbriefs...</td>\n",
       "    </tr>\n",
       "    <tr>\n",
       "      <th>when</th>\n",
       "      <td>52398</td>\n",
       "      <td>0</td>\n",
       "      <td>87</td>\n",
       "      <td>52311</td>\n",
       "      <td>3 years ago</td>\n",
       "    </tr>\n",
       "    <tr>\n",
       "      <th>covid_related</th>\n",
       "      <td>52398</td>\n",
       "      <td>0</td>\n",
       "      <td>2</td>\n",
       "      <td>52396</td>\n",
       "      <td>False</td>\n",
       "    </tr>\n",
       "    <tr>\n",
       "      <th>virus</th>\n",
       "      <td>52398</td>\n",
       "      <td>0</td>\n",
       "      <td>2</td>\n",
       "      <td>52396</td>\n",
       "      <td>True</td>\n",
       "    </tr>\n",
       "    <tr>\n",
       "      <th>coronavirus</th>\n",
       "      <td>52398</td>\n",
       "      <td>0</td>\n",
       "      <td>2</td>\n",
       "      <td>52396</td>\n",
       "      <td>False</td>\n",
       "    </tr>\n",
       "    <tr>\n",
       "      <th>sars</th>\n",
       "      <td>52398</td>\n",
       "      <td>0</td>\n",
       "      <td>2</td>\n",
       "      <td>52396</td>\n",
       "      <td>False</td>\n",
       "    </tr>\n",
       "    <tr>\n",
       "      <th>antivirals</th>\n",
       "      <td>52398</td>\n",
       "      <td>0</td>\n",
       "      <td>1749</td>\n",
       "      <td>50649</td>\n",
       "      <td></td>\n",
       "    </tr>\n",
       "  </tbody>\n",
       "</table>\n",
       "</div>"
      ],
      "text/plain": [
       "                            non-null   null unique duplicate  \\\n",
       "cord_uid                       52398      0  52365        33   \n",
       "source                         52398      0      6     52392   \n",
       "title                          52398      0  49482      2916   \n",
       "doi                            52398      0  49043      3355   \n",
       "pmcid                          43652   8746  43652         0   \n",
       "pubmed_id                      38058  14340  38031        27   \n",
       "license                        52398      0     13     52385   \n",
       "abstract                       52398      0  50533      1865   \n",
       "published                      52390      8   6484     45906   \n",
       "authors                        52398      0  47805      4593   \n",
       "journal                        52398      0   6321     46077   \n",
       "Microsoft Academic Paper ID      964  51434    765       199   \n",
       "WHO #Covidence                  1768  50630   1768         0   \n",
       "has_pdf_parse                  52398      0      2     52396   \n",
       "has_pmc_xml_parse              52398      0      2     52396   \n",
       "full_text_file                 43794   8604      4     43790   \n",
       "url                            52096    302  52092         4   \n",
       "when                           52398      0     87     52311   \n",
       "covid_related                  52398      0      2     52396   \n",
       "virus                          52398      0      2     52396   \n",
       "coronavirus                    52398      0      2     52396   \n",
       "sars                           52398      0      2     52396   \n",
       "antivirals                     52398      0   1749     50649   \n",
       "\n",
       "                                                                   most common  \n",
       "cord_uid                                                              4fbr8fx8  \n",
       "source                                                                     PMC  \n",
       "title                                                                           \n",
       "doi                                                                             \n",
       "pmcid                                                               PMC7134875  \n",
       "pubmed_id                                                             15161626  \n",
       "license                                                              els-covid  \n",
       "abstract                                                                        \n",
       "published                                                  2020-01-01 00:00:00  \n",
       "authors                                                                         \n",
       "journal                                                                         \n",
       "Microsoft Academic Paper ID                                         3006645647  \n",
       "WHO #Covidence                                                           #5189  \n",
       "has_pdf_parse                                                             True  \n",
       "has_pmc_xml_parse                                                        False  \n",
       "full_text_file                                                  custom_license  \n",
       "url                          http://www.hcup-us.ahrq.gov/reports/statbriefs...  \n",
       "when                                                               3 years ago  \n",
       "covid_related                                                            False  \n",
       "virus                                                                     True  \n",
       "coronavirus                                                              False  \n",
       "sars                                                                     False  \n",
       "antivirals                                                                      "
      ]
     },
     "execution_count": 3,
     "metadata": {},
     "output_type": "execute_result"
    }
   ],
   "source": [
    "papers.describe()"
   ]
  },
  {
   "cell_type": "code",
   "execution_count": 7,
   "metadata": {},
   "outputs": [],
   "source": [
    "#import joblib\n",
    "\n",
    "#bm25_savepath = cord_cache_dir()/ 'BM25.gz'\n",
    "#with bm25_savepath.open('wb') as f:\n",
    "#    joblib.dump(papers.bm25, f, compress=('gzip', 9))"
   ]
  }
 ],
 "metadata": {
  "kernelspec": {
   "display_name": "cord",
   "language": "python",
   "name": "cord"
  },
  "language_info": {
   "codemirror_mode": {
    "name": "ipython",
    "version": 3
   },
   "file_extension": ".py",
   "mimetype": "text/x-python",
   "name": "python",
   "nbconvert_exporter": "python",
   "pygments_lexer": "ipython3",
   "version": "3.7.0"
  }
 },
 "nbformat": 4,
 "nbformat_minor": 4
}
