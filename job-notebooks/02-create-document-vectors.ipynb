{
 "cells": [
  {
   "cell_type": "markdown",
   "metadata": {},
   "source": [
    "# Create Document Vectors\n",
    "\n",
    "This notebook creates document vectors for each of the research papers based on the paper contents."
   ]
  },
  {
   "cell_type": "code",
   "execution_count": 1,
   "metadata": {},
   "outputs": [],
   "source": [
    "from cord.core import JSON_CATALOGS, BIORXIV_MEDRXIV, COMM_USE_SUBSET, CUSTOM_LICENSE, NONCOMM_USE_SUBSET, cord_support_dir\n",
    "from cord.jsonpaper import load_json_cache\n",
    "from cord import ResearchPapers\n",
    "import pandas as pd\n",
    "from pathlib import Path, PurePath\n",
    "import numpy as np"
   ]
  },
  {
   "cell_type": "code",
   "execution_count": 2,
   "metadata": {},
   "outputs": [],
   "source": [
    "VECTOR_SIZE = 20"
   ]
  },
  {
   "cell_type": "markdown",
   "metadata": {},
   "source": [
    "## 1. Load the Cached JSON Index Tokens\n",
    "\n",
    "Use the precached json index tokens."
   ]
  },
  {
   "cell_type": "code",
   "execution_count": 3,
   "metadata": {},
   "outputs": [
    {
     "name": "stdout",
     "output_type": "stream",
     "text": [
      "Loading json cache files for comm_use_subset\n",
      "Loaded comm_use_subset json cache in 39 seconds\n",
      "Loading json cache files for biorxiv_medrxiv\n",
      "Loaded biorxiv_medrxiv json cache in 1 seconds\n",
      "Loading json cache files for noncomm_use_subset\n",
      "Loaded noncomm_use_subset json cache in 8 seconds\n",
      "Loading json cache files for custom_license\n",
      "Loaded custom_license json cache in 61 seconds\n"
     ]
    }
   ],
   "source": [
    "from IPython.display import display\n",
    "dfs = []\n",
    "for catalog in JSON_CATALOGS:\n",
    "    json_cache = load_json_cache(catalog)\n",
    "    dfs.append(json_cache)\n",
    "    \n",
    "json_tokens = pd.concat(dfs, ignore_index=True)"
   ]
  },
  {
   "cell_type": "code",
   "execution_count": 4,
   "metadata": {},
   "outputs": [],
   "source": [
    "assert not json_tokens.pmcid.isnull().all(), 'The pmcid column is all null'"
   ]
  },
  {
   "cell_type": "markdown",
   "metadata": {},
   "source": [
    "## 2. Train a Gensim Doc2vec Model"
   ]
  },
  {
   "cell_type": "code",
   "execution_count": 5,
   "metadata": {},
   "outputs": [],
   "source": [
    "from gensim.models.doc2vec import Doc2Vec, TaggedDocument\n",
    "documents = [TaggedDocument(doc, [i]) for i, doc in enumerate(json_tokens.index_tokens)]\n",
    "model = Doc2Vec(documents, vector_size=VECTOR_SIZE, window=2, min_count=1, workers=8)"
   ]
  },
  {
   "cell_type": "markdown",
   "metadata": {},
   "source": [
    "## 3. Save Doc2VecModel"
   ]
  },
  {
   "cell_type": "code",
   "execution_count": 6,
   "metadata": {},
   "outputs": [],
   "source": [
    "model.save(f'Doc2Vec_{VECTOR_SIZE}.model')"
   ]
  },
  {
   "cell_type": "markdown",
   "metadata": {},
   "source": [
    "## 4. Create Document Vector"
   ]
  },
  {
   "cell_type": "code",
   "execution_count": 7,
   "metadata": {},
   "outputs": [
    {
     "name": "stdout",
     "output_type": "stream",
     "text": [
      "1.01 ms ± 9.37 µs per loop (mean ± std. dev. of 7 runs, 1000 loops each)\n"
     ]
    }
   ],
   "source": [
    "def get_vector(tokens):\n",
    "    return model.infer_vector(tokens)\n",
    "\n",
    "%timeit get_vector(json_tokens.loc[0].index_tokens)"
   ]
  },
  {
   "cell_type": "code",
   "execution_count": 8,
   "metadata": {
    "scrolled": true
   },
   "outputs": [
    {
     "name": "stdout",
     "output_type": "stream",
     "text": [
      "Wall time: 17min 56s\n"
     ]
    }
   ],
   "source": [
    "%time json_tokens['document_vector'] = json_tokens.index_tokens.apply(model.infer_vector)"
   ]
  },
  {
   "cell_type": "code",
   "execution_count": 11,
   "metadata": {},
   "outputs": [
    {
     "data": {
      "text/html": [
       "<div>\n",
       "<style scoped>\n",
       "    .dataframe tbody tr th:only-of-type {\n",
       "        vertical-align: middle;\n",
       "    }\n",
       "\n",
       "    .dataframe tbody tr th {\n",
       "        vertical-align: top;\n",
       "    }\n",
       "\n",
       "    .dataframe thead th {\n",
       "        text-align: right;\n",
       "    }\n",
       "</style>\n",
       "<table border=\"1\" class=\"dataframe\">\n",
       "  <thead>\n",
       "    <tr style=\"text-align: right;\">\n",
       "      <th></th>\n",
       "      <th>sha</th>\n",
       "      <th>pmcid</th>\n",
       "      <th>index_tokens</th>\n",
       "      <th>document_vector</th>\n",
       "      <th>document_vector_1d</th>\n",
       "      <th>cluster_id</th>\n",
       "    </tr>\n",
       "  </thead>\n",
       "  <tbody>\n",
       "    <tr>\n",
       "      <th>0</th>\n",
       "      <td>000b7d1517ceebb34e1e3e817695b6de03e2fa78</td>\n",
       "      <td>None</td>\n",
       "      <td>[s1, phylogeny, sequences, belonging, umrv, ph...</td>\n",
       "      <td>[-0.0001454174, -0.020008974, -0.15157239, -0....</td>\n",
       "      <td>-1.439926</td>\n",
       "      <td>4</td>\n",
       "    </tr>\n",
       "    <tr>\n",
       "      <th>1</th>\n",
       "      <td>00142f93c18b07350be89e96372d240372437ed9</td>\n",
       "      <td>None</td>\n",
       "      <td>[human, beings, constantly, exposed, myriad, p...</td>\n",
       "      <td>[-1.5019524, 2.4714665, -1.1794524, 1.2314736,...</td>\n",
       "      <td>21.845858</td>\n",
       "      <td>1</td>\n",
       "    </tr>\n",
       "    <tr>\n",
       "      <th>2</th>\n",
       "      <td>0022796bb2112abd2e6423ba2d57751db06049fb</td>\n",
       "      <td>None</td>\n",
       "      <td>[pathogens, vectors, transported, rapidly, aro...</td>\n",
       "      <td>[-1.3127675, 1.0502137, -0.6803469, -1.2441112...</td>\n",
       "      <td>-62.724194</td>\n",
       "      <td>0</td>\n",
       "    </tr>\n",
       "    <tr>\n",
       "      <th>3</th>\n",
       "      <td>0031e47b76374e05a18c266bd1a1140e5eacb54f</td>\n",
       "      <td>None</td>\n",
       "      <td>[a1111111111, a1111111111, a1111111111, a11111...</td>\n",
       "      <td>[-3.5530822, 1.9237256, -1.4036909, -2.3870523...</td>\n",
       "      <td>-15.544662</td>\n",
       "      <td>3</td>\n",
       "    </tr>\n",
       "    <tr>\n",
       "      <th>4</th>\n",
       "      <td>00326efcca0852dc6e39dc6b7786267e1bc4f194</td>\n",
       "      <td>None</td>\n",
       "      <td>[addition, preventative, care, nutritional, su...</td>\n",
       "      <td>[0.042658817, 2.5792394, 1.4552583, -2.7162018...</td>\n",
       "      <td>-75.814964</td>\n",
       "      <td>0</td>\n",
       "    </tr>\n",
       "    <tr>\n",
       "      <th>...</th>\n",
       "      <td>...</td>\n",
       "      <td>...</td>\n",
       "      <td>...</td>\n",
       "      <td>...</td>\n",
       "      <td>...</td>\n",
       "      <td>...</td>\n",
       "    </tr>\n",
       "    <tr>\n",
       "      <th>52092</th>\n",
       "      <td>None</td>\n",
       "      <td>PMC7105754</td>\n",
       "      <td>[inactivated, virus, vaccines, inactivated, wk...</td>\n",
       "      <td>[-1.7658923, 0.7377934, 0.80591667, 2.2260578,...</td>\n",
       "      <td>18.975584</td>\n",
       "      <td>1</td>\n",
       "    </tr>\n",
       "    <tr>\n",
       "      <th>52093</th>\n",
       "      <td>None</td>\n",
       "      <td>PMC7105755</td>\n",
       "      <td>[types, protein, microarrays, currently, types...</td>\n",
       "      <td>[-2.226667, 2.3260539, 0.6691074, 1.1899889, -...</td>\n",
       "      <td>9.838189</td>\n",
       "      <td>5</td>\n",
       "    </tr>\n",
       "    <tr>\n",
       "      <th>52094</th>\n",
       "      <td>None</td>\n",
       "      <td>PMC7105756</td>\n",
       "      <td>[]</td>\n",
       "      <td>[0.0024406752, 0.010759468, 0.0051381686, 0.00...</td>\n",
       "      <td>86.231491</td>\n",
       "      <td>4</td>\n",
       "    </tr>\n",
       "    <tr>\n",
       "      <th>52095</th>\n",
       "      <td>None</td>\n",
       "      <td>PMC7106065</td>\n",
       "      <td>[]</td>\n",
       "      <td>[0.0024406752, 0.010759468, 0.0051381686, 0.00...</td>\n",
       "      <td>86.231491</td>\n",
       "      <td>4</td>\n",
       "    </tr>\n",
       "    <tr>\n",
       "      <th>52096</th>\n",
       "      <td>None</td>\n",
       "      <td>PMC7107297</td>\n",
       "      <td>[headlines, worldwide, last, several, months, ...</td>\n",
       "      <td>[0.023455413, -0.049606234, -0.21878447, -0.32...</td>\n",
       "      <td>-56.726101</td>\n",
       "      <td>4</td>\n",
       "    </tr>\n",
       "  </tbody>\n",
       "</table>\n",
       "<p>52097 rows × 6 columns</p>\n",
       "</div>"
      ],
      "text/plain": [
       "                                            sha       pmcid  \\\n",
       "0      000b7d1517ceebb34e1e3e817695b6de03e2fa78        None   \n",
       "1      00142f93c18b07350be89e96372d240372437ed9        None   \n",
       "2      0022796bb2112abd2e6423ba2d57751db06049fb        None   \n",
       "3      0031e47b76374e05a18c266bd1a1140e5eacb54f        None   \n",
       "4      00326efcca0852dc6e39dc6b7786267e1bc4f194        None   \n",
       "...                                         ...         ...   \n",
       "52092                                      None  PMC7105754   \n",
       "52093                                      None  PMC7105755   \n",
       "52094                                      None  PMC7105756   \n",
       "52095                                      None  PMC7106065   \n",
       "52096                                      None  PMC7107297   \n",
       "\n",
       "                                            index_tokens  \\\n",
       "0      [s1, phylogeny, sequences, belonging, umrv, ph...   \n",
       "1      [human, beings, constantly, exposed, myriad, p...   \n",
       "2      [pathogens, vectors, transported, rapidly, aro...   \n",
       "3      [a1111111111, a1111111111, a1111111111, a11111...   \n",
       "4      [addition, preventative, care, nutritional, su...   \n",
       "...                                                  ...   \n",
       "52092  [inactivated, virus, vaccines, inactivated, wk...   \n",
       "52093  [types, protein, microarrays, currently, types...   \n",
       "52094                                                 []   \n",
       "52095                                                 []   \n",
       "52096  [headlines, worldwide, last, several, months, ...   \n",
       "\n",
       "                                         document_vector  document_vector_1d  \\\n",
       "0      [-0.0001454174, -0.020008974, -0.15157239, -0....           -1.439926   \n",
       "1      [-1.5019524, 2.4714665, -1.1794524, 1.2314736,...           21.845858   \n",
       "2      [-1.3127675, 1.0502137, -0.6803469, -1.2441112...          -62.724194   \n",
       "3      [-3.5530822, 1.9237256, -1.4036909, -2.3870523...          -15.544662   \n",
       "4      [0.042658817, 2.5792394, 1.4552583, -2.7162018...          -75.814964   \n",
       "...                                                  ...                 ...   \n",
       "52092  [-1.7658923, 0.7377934, 0.80591667, 2.2260578,...           18.975584   \n",
       "52093  [-2.226667, 2.3260539, 0.6691074, 1.1899889, -...            9.838189   \n",
       "52094  [0.0024406752, 0.010759468, 0.0051381686, 0.00...           86.231491   \n",
       "52095  [0.0024406752, 0.010759468, 0.0051381686, 0.00...           86.231491   \n",
       "52096  [0.023455413, -0.049606234, -0.21878447, -0.32...          -56.726101   \n",
       "\n",
       "       cluster_id  \n",
       "0               4  \n",
       "1               1  \n",
       "2               0  \n",
       "3               3  \n",
       "4               0  \n",
       "...           ...  \n",
       "52092           1  \n",
       "52093           5  \n",
       "52094           4  \n",
       "52095           4  \n",
       "52096           4  \n",
       "\n",
       "[52097 rows x 6 columns]"
      ]
     },
     "execution_count": 11,
     "metadata": {},
     "output_type": "execute_result"
    }
   ],
   "source": [
    "json_tokens"
   ]
  },
  {
   "cell_type": "markdown",
   "metadata": {},
   "source": [
    "## 5. Save Document Vectors"
   ]
  },
  {
   "cell_type": "code",
   "execution_count": 13,
   "metadata": {},
   "outputs": [],
   "source": [
    "docvector_savepath = Path(cord_support_dir()) / f'DocumentVectors_{VECTOR_SIZE}.pq'\n",
    "json_vectors = json_tokens[['sha', 'pmcid', 'document_vector']]\n",
    "json_vectors.to_parquet(Path(cord_support_dir()) / f'DocumentVectors_{VECTOR_SIZE}.pq')"
   ]
  },
  {
   "cell_type": "code",
   "execution_count": 14,
   "metadata": {},
   "outputs": [
    {
     "data": {
      "text/html": [
       "<div>\n",
       "<style scoped>\n",
       "    .dataframe tbody tr th:only-of-type {\n",
       "        vertical-align: middle;\n",
       "    }\n",
       "\n",
       "    .dataframe tbody tr th {\n",
       "        vertical-align: top;\n",
       "    }\n",
       "\n",
       "    .dataframe thead th {\n",
       "        text-align: right;\n",
       "    }\n",
       "</style>\n",
       "<table border=\"1\" class=\"dataframe\">\n",
       "  <thead>\n",
       "    <tr style=\"text-align: right;\">\n",
       "      <th></th>\n",
       "      <th>sha</th>\n",
       "      <th>pmcid</th>\n",
       "      <th>document_vector</th>\n",
       "    </tr>\n",
       "  </thead>\n",
       "  <tbody>\n",
       "    <tr>\n",
       "      <th>0</th>\n",
       "      <td>000b7d1517ceebb34e1e3e817695b6de03e2fa78</td>\n",
       "      <td>None</td>\n",
       "      <td>[-0.0001454174, -0.020008974, -0.15157239, -0....</td>\n",
       "    </tr>\n",
       "    <tr>\n",
       "      <th>1</th>\n",
       "      <td>00142f93c18b07350be89e96372d240372437ed9</td>\n",
       "      <td>None</td>\n",
       "      <td>[-1.5019524, 2.4714665, -1.1794524, 1.2314736,...</td>\n",
       "    </tr>\n",
       "    <tr>\n",
       "      <th>2</th>\n",
       "      <td>0022796bb2112abd2e6423ba2d57751db06049fb</td>\n",
       "      <td>None</td>\n",
       "      <td>[-1.3127675, 1.0502137, -0.6803469, -1.2441112...</td>\n",
       "    </tr>\n",
       "    <tr>\n",
       "      <th>3</th>\n",
       "      <td>0031e47b76374e05a18c266bd1a1140e5eacb54f</td>\n",
       "      <td>None</td>\n",
       "      <td>[-3.5530822, 1.9237256, -1.4036909, -2.3870523...</td>\n",
       "    </tr>\n",
       "    <tr>\n",
       "      <th>4</th>\n",
       "      <td>00326efcca0852dc6e39dc6b7786267e1bc4f194</td>\n",
       "      <td>None</td>\n",
       "      <td>[0.042658817, 2.5792394, 1.4552583, -2.7162018...</td>\n",
       "    </tr>\n",
       "    <tr>\n",
       "      <th>...</th>\n",
       "      <td>...</td>\n",
       "      <td>...</td>\n",
       "      <td>...</td>\n",
       "    </tr>\n",
       "    <tr>\n",
       "      <th>52092</th>\n",
       "      <td>None</td>\n",
       "      <td>PMC7105754</td>\n",
       "      <td>[-1.7658923, 0.7377934, 0.80591667, 2.2260578,...</td>\n",
       "    </tr>\n",
       "    <tr>\n",
       "      <th>52093</th>\n",
       "      <td>None</td>\n",
       "      <td>PMC7105755</td>\n",
       "      <td>[-2.226667, 2.3260539, 0.6691074, 1.1899889, -...</td>\n",
       "    </tr>\n",
       "    <tr>\n",
       "      <th>52094</th>\n",
       "      <td>None</td>\n",
       "      <td>PMC7105756</td>\n",
       "      <td>[0.0024406752, 0.010759468, 0.0051381686, 0.00...</td>\n",
       "    </tr>\n",
       "    <tr>\n",
       "      <th>52095</th>\n",
       "      <td>None</td>\n",
       "      <td>PMC7106065</td>\n",
       "      <td>[0.0024406752, 0.010759468, 0.0051381686, 0.00...</td>\n",
       "    </tr>\n",
       "    <tr>\n",
       "      <th>52096</th>\n",
       "      <td>None</td>\n",
       "      <td>PMC7107297</td>\n",
       "      <td>[0.023455413, -0.049606234, -0.21878447, -0.32...</td>\n",
       "    </tr>\n",
       "  </tbody>\n",
       "</table>\n",
       "<p>52097 rows × 3 columns</p>\n",
       "</div>"
      ],
      "text/plain": [
       "                                            sha       pmcid  \\\n",
       "0      000b7d1517ceebb34e1e3e817695b6de03e2fa78        None   \n",
       "1      00142f93c18b07350be89e96372d240372437ed9        None   \n",
       "2      0022796bb2112abd2e6423ba2d57751db06049fb        None   \n",
       "3      0031e47b76374e05a18c266bd1a1140e5eacb54f        None   \n",
       "4      00326efcca0852dc6e39dc6b7786267e1bc4f194        None   \n",
       "...                                         ...         ...   \n",
       "52092                                      None  PMC7105754   \n",
       "52093                                      None  PMC7105755   \n",
       "52094                                      None  PMC7105756   \n",
       "52095                                      None  PMC7106065   \n",
       "52096                                      None  PMC7107297   \n",
       "\n",
       "                                         document_vector  \n",
       "0      [-0.0001454174, -0.020008974, -0.15157239, -0....  \n",
       "1      [-1.5019524, 2.4714665, -1.1794524, 1.2314736,...  \n",
       "2      [-1.3127675, 1.0502137, -0.6803469, -1.2441112...  \n",
       "3      [-3.5530822, 1.9237256, -1.4036909, -2.3870523...  \n",
       "4      [0.042658817, 2.5792394, 1.4552583, -2.7162018...  \n",
       "...                                                  ...  \n",
       "52092  [-1.7658923, 0.7377934, 0.80591667, 2.2260578,...  \n",
       "52093  [-2.226667, 2.3260539, 0.6691074, 1.1899889, -...  \n",
       "52094  [0.0024406752, 0.010759468, 0.0051381686, 0.00...  \n",
       "52095  [0.0024406752, 0.010759468, 0.0051381686, 0.00...  \n",
       "52096  [0.023455413, -0.049606234, -0.21878447, -0.32...  \n",
       "\n",
       "[52097 rows x 3 columns]"
      ]
     },
     "execution_count": 14,
     "metadata": {},
     "output_type": "execute_result"
    }
   ],
   "source": [
    "pd.read_parquet(docvector_savepath)"
   ]
  },
  {
   "cell_type": "code",
   "execution_count": null,
   "metadata": {},
   "outputs": [],
   "source": []
  }
 ],
 "metadata": {
  "kernelspec": {
   "display_name": "cord",
   "language": "python",
   "name": "cord"
  },
  "language_info": {
   "codemirror_mode": {
    "name": "ipython",
    "version": 3
   },
   "file_extension": ".py",
   "mimetype": "text/x-python",
   "name": "python",
   "nbconvert_exporter": "python",
   "pygments_lexer": "ipython3",
   "version": "3.7.0"
  }
 },
 "nbformat": 4,
 "nbformat_minor": 4
}
