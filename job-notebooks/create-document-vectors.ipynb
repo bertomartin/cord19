{
 "cells": [
  {
   "cell_type": "markdown",
   "metadata": {},
   "source": [
    "# Create Document Vectors\n",
    "\n",
    "This notebook creates document vectors for each of the research papers based on the paper contents."
   ]
  },
  {
   "cell_type": "code",
   "execution_count": 1,
   "metadata": {},
   "outputs": [],
   "source": [
    "from cord.core import JSON_CATALOGS, BIORXIV_MEDRXIV, COMM_USE_SUBSET, CUSTOM_LICENSE, NONCOMM_USE_SUBSET, cord_support_dir\n",
    "from cord.jsonpaper import load_json_cache\n",
    "from cord import ResearchPapers\n",
    "import pandas as pd\n",
    "from pathlib import Path, PurePath\n",
    "import numpy as np"
   ]
  },
  {
   "cell_type": "code",
   "execution_count": 2,
   "metadata": {},
   "outputs": [],
   "source": [
    "VECTOR_SIZE = 20"
   ]
  },
  {
   "cell_type": "markdown",
   "metadata": {},
   "source": [
    "## 1. Load the Cached JSON Index Tokens\n",
    "\n",
    "Use the precached json index tokens."
   ]
  },
  {
   "cell_type": "code",
   "execution_count": 3,
   "metadata": {},
   "outputs": [
    {
     "name": "stdout",
     "output_type": "stream",
     "text": [
      "Loading json cache files for comm_use_subset\n",
      "Loaded comm_use_subset json cache in 33 seconds\n",
      "Loading json cache files for biorxiv_medrxiv\n",
      "Loaded biorxiv_medrxiv json cache in 1 seconds\n",
      "Loading json cache files for noncomm_use_subset\n",
      "Loaded noncomm_use_subset json cache in 6 seconds\n",
      "Loading json cache files for custom_license\n",
      "Loaded custom_license json cache in 52 seconds\n"
     ]
    }
   ],
   "source": [
    "json_tokens = []\n",
    "for catalog in JSON_CATALOGS:\n",
    "    json_cache = load_json_cache(catalog)\n",
    "    json_tokens.append(json_cache)\n",
    "    \n",
    "json_tokens = pd.concat(json_tokens, ignore_index=True)"
   ]
  },
  {
   "cell_type": "markdown",
   "metadata": {},
   "source": [
    "## 2. Extract the PMCID"
   ]
  },
  {
   "cell_type": "code",
   "execution_count": 4,
   "metadata": {},
   "outputs": [],
   "source": [
    "json_tokens['pmcid'] = json_tokens.sha.str.extract('(PMC[0-9]+)\\.xml')\n",
    "json_tokens.loc[~json_tokens.pmcid.isnull(), 'sha'] = np.nan\n",
    "json_tokens = json_tokens[['sha', 'pmcid', 'index_tokens']]"
   ]
  },
  {
   "cell_type": "code",
   "execution_count": 5,
   "metadata": {},
   "outputs": [
    {
     "data": {
      "text/html": [
       "<div>\n",
       "<style scoped>\n",
       "    .dataframe tbody tr th:only-of-type {\n",
       "        vertical-align: middle;\n",
       "    }\n",
       "\n",
       "    .dataframe tbody tr th {\n",
       "        vertical-align: top;\n",
       "    }\n",
       "\n",
       "    .dataframe thead th {\n",
       "        text-align: right;\n",
       "    }\n",
       "</style>\n",
       "<table border=\"1\" class=\"dataframe\">\n",
       "  <thead>\n",
       "    <tr style=\"text-align: right;\">\n",
       "      <th></th>\n",
       "      <th>sha</th>\n",
       "      <th>pmcid</th>\n",
       "      <th>index_tokens</th>\n",
       "    </tr>\n",
       "  </thead>\n",
       "  <tbody>\n",
       "  </tbody>\n",
       "</table>\n",
       "</div>"
      ],
      "text/plain": [
       "Empty DataFrame\n",
       "Columns: [sha, pmcid, index_tokens]\n",
       "Index: []"
      ]
     },
     "execution_count": 5,
     "metadata": {},
     "output_type": "execute_result"
    }
   ],
   "source": [
    "json_tokens.query(\"pmcid=='PMC1054884'\")"
   ]
  },
  {
   "cell_type": "markdown",
   "metadata": {},
   "source": [
    "## 3. Train a Gensim Doc2vec Model"
   ]
  },
  {
   "cell_type": "code",
   "execution_count": null,
   "metadata": {},
   "outputs": [],
   "source": [
    "from gensim.models.doc2vec import Doc2Vec, TaggedDocument\n",
    "documents = [TaggedDocument(doc, [i]) for i, doc in enumerate(json_tokens.index_tokens)]\n",
    "model = Doc2Vec(documents, vector_size=VECTOR_SIZE, window=2, min_count=1, workers=8)"
   ]
  },
  {
   "cell_type": "markdown",
   "metadata": {},
   "source": [
    "## 4. Save Doc2VecModel"
   ]
  },
  {
   "cell_type": "code",
   "execution_count": null,
   "metadata": {},
   "outputs": [],
   "source": [
    "model.save(f'Doc2Vec_{VECTOR_SIZE}.model')"
   ]
  },
  {
   "cell_type": "markdown",
   "metadata": {},
   "source": [
    "## 5. Create Document Vector"
   ]
  },
  {
   "cell_type": "code",
   "execution_count": 9,
   "metadata": {},
   "outputs": [
    {
     "name": "stdout",
     "output_type": "stream",
     "text": [
      "1.59 ms ± 91.3 µs per loop (mean ± std. dev. of 7 runs, 1000 loops each)\n"
     ]
    }
   ],
   "source": [
    "def get_vector(tokens):\n",
    "    return model.infer_vector(tokens)\n",
    "\n",
    "%timeit get_vector(json_tokens.loc[0].index_tokens)"
   ]
  },
  {
   "cell_type": "code",
   "execution_count": 10,
   "metadata": {
    "scrolled": true
   },
   "outputs": [
    {
     "name": "stdout",
     "output_type": "stream",
     "text": [
      "Wall time: 19min 4s\n"
     ]
    }
   ],
   "source": [
    "%time json_tokens['document_vector'] = json_tokens.index_tokens.apply(model.infer_vector)"
   ]
  },
  {
   "cell_type": "code",
   "execution_count": 2,
   "metadata": {},
   "outputs": [],
   "source": [
    "from cord.core import DOCUMENT_VECTOR_PATH\n",
    "import pandas as pd\n",
    "document_vectors = pd.read_parquet(DOCUMENT_VECTOR_PATH)"
   ]
  },
  {
   "cell_type": "markdown",
   "metadata": {},
   "source": [
    "## 6. Create Downsampled Vectors"
   ]
  },
  {
   "cell_type": "code",
   "execution_count": null,
   "metadata": {},
   "outputs": [],
   "source": [
    "docvector_arr = np.stack(json_tokens.document_vector.values)\n",
    "RANDOM_STATE = 42\n",
    "\n",
    "def kmean_labels(docvectors, n_clusters=6, random_state=RANDOM_STATE):\n",
    "    print('Setting cluster labels')\n",
    "    from sklearn.cluster import KMeans\n",
    "    kmeans = KMeans(n_clusters=n_clusters,\n",
    "                    random_state=random_state).fit(docvectors)\n",
    "    return kmeans.labels_\n",
    "\n",
    "\n",
    "def tsne_embeddings(docvectors, dimensions=2):\n",
    "    print(f'Creating {dimensions}D  embeddings')\n",
    "    from sklearn.manifold import TSNE\n",
    "    tsne = TSNE(verbose=1,\n",
    "                perplexity=10,\n",
    "                early_exaggeration=24,\n",
    "                n_components=dimensions,\n",
    "                n_jobs=8,\n",
    "                random_state=RANDOM_STATE,\n",
    "                learning_rate=600)\n",
    "    embeddings = tsne.fit_transform(docvectors)\n",
    "    del tsne\n",
    "    return embeddings\n",
    "\n",
    "%time json_tokens['document_vector_2d'] = tsne_embeddings(docvector_arr, dimensions=2)\n",
    "%time json_tokens['document_vector_1d'] = tsne_embeddings(docvector_arr, dimensions=1)\n",
    "%time json_tokens['cluster_id'] = kmean_labels(docvector_arr, 7)"
   ]
  },
  {
   "cell_type": "code",
   "execution_count": 36,
   "metadata": {},
   "outputs": [
    {
     "data": {
      "text/html": [
       "<div>\n",
       "<style scoped>\n",
       "    .dataframe tbody tr th:only-of-type {\n",
       "        vertical-align: middle;\n",
       "    }\n",
       "\n",
       "    .dataframe tbody tr th {\n",
       "        vertical-align: top;\n",
       "    }\n",
       "\n",
       "    .dataframe thead th {\n",
       "        text-align: right;\n",
       "    }\n",
       "</style>\n",
       "<table border=\"1\" class=\"dataframe\">\n",
       "  <thead>\n",
       "    <tr style=\"text-align: right;\">\n",
       "      <th></th>\n",
       "      <th>sha</th>\n",
       "      <th>pmcid</th>\n",
       "      <th>index_tokens</th>\n",
       "      <th>document_vector</th>\n",
       "      <th>document_vector_2d</th>\n",
       "      <th>cluster_id</th>\n",
       "      <th>document_vector_1d</th>\n",
       "    </tr>\n",
       "  </thead>\n",
       "  <tbody>\n",
       "    <tr>\n",
       "      <th>0</th>\n",
       "      <td>000b7d1517ceebb34e1e3e817695b6de03e2fa78</td>\n",
       "      <td>NaN</td>\n",
       "      <td>[s1, phylogeny, sequences, belonging, umrv, ph...</td>\n",
       "      <td>[0.56928027, -0.3666296, -0.20493843, 0.431051...</td>\n",
       "      <td>15.698082</td>\n",
       "      <td>1</td>\n",
       "      <td>-20.126677</td>\n",
       "    </tr>\n",
       "    <tr>\n",
       "      <th>1</th>\n",
       "      <td>00142f93c18b07350be89e96372d240372437ed9</td>\n",
       "      <td>NaN</td>\n",
       "      <td>[human, beings, constantly, exposed, myriad, p...</td>\n",
       "      <td>[3.3664315, -2.1276946, 1.6158434, 0.9182286, ...</td>\n",
       "      <td>31.039991</td>\n",
       "      <td>5</td>\n",
       "      <td>28.878820</td>\n",
       "    </tr>\n",
       "    <tr>\n",
       "      <th>2</th>\n",
       "      <td>0022796bb2112abd2e6423ba2d57751db06049fb</td>\n",
       "      <td>NaN</td>\n",
       "      <td>[pathogens, vectors, transported, rapidly, aro...</td>\n",
       "      <td>[0.27237293, 0.15642405, 2.5503929, 1.1305904,...</td>\n",
       "      <td>-50.606564</td>\n",
       "      <td>0</td>\n",
       "      <td>-54.790283</td>\n",
       "    </tr>\n",
       "    <tr>\n",
       "      <th>3</th>\n",
       "      <td>0031e47b76374e05a18c266bd1a1140e5eacb54f</td>\n",
       "      <td>NaN</td>\n",
       "      <td>[a1111111111, a1111111111, a1111111111, a11111...</td>\n",
       "      <td>[0.5768533, -3.854187, 0.072966725, 0.8637349,...</td>\n",
       "      <td>-69.332512</td>\n",
       "      <td>2</td>\n",
       "      <td>-7.735852</td>\n",
       "    </tr>\n",
       "    <tr>\n",
       "      <th>4</th>\n",
       "      <td>00326efcca0852dc6e39dc6b7786267e1bc4f194</td>\n",
       "      <td>NaN</td>\n",
       "      <td>[addition, preventative, care, nutritional, su...</td>\n",
       "      <td>[1.3273811, 0.4609563, 3.068578, -0.50986123, ...</td>\n",
       "      <td>-18.875193</td>\n",
       "      <td>0</td>\n",
       "      <td>-64.668060</td>\n",
       "    </tr>\n",
       "    <tr>\n",
       "      <th>...</th>\n",
       "      <td>...</td>\n",
       "      <td>...</td>\n",
       "      <td>...</td>\n",
       "      <td>...</td>\n",
       "      <td>...</td>\n",
       "      <td>...</td>\n",
       "      <td>...</td>\n",
       "    </tr>\n",
       "    <tr>\n",
       "      <th>52092</th>\n",
       "      <td>None</td>\n",
       "      <td>NaN</td>\n",
       "      <td>[inactivated, virus, vaccines, inactivated, wk...</td>\n",
       "      <td>[1.418982, -0.4864095, 0.19998026, 0.23552166,...</td>\n",
       "      <td>8.962655</td>\n",
       "      <td>5</td>\n",
       "      <td>27.742414</td>\n",
       "    </tr>\n",
       "    <tr>\n",
       "      <th>52093</th>\n",
       "      <td>None</td>\n",
       "      <td>NaN</td>\n",
       "      <td>[types, protein, microarrays, currently, types...</td>\n",
       "      <td>[-0.5313242, -1.7436063, 1.3774712, 0.01626098...</td>\n",
       "      <td>62.282139</td>\n",
       "      <td>4</td>\n",
       "      <td>64.295235</td>\n",
       "    </tr>\n",
       "    <tr>\n",
       "      <th>52094</th>\n",
       "      <td>None</td>\n",
       "      <td>NaN</td>\n",
       "      <td>[]</td>\n",
       "      <td>[0.0024406752, 0.010759468, 0.0051381686, 0.00...</td>\n",
       "      <td>9.226234</td>\n",
       "      <td>1</td>\n",
       "      <td>-89.850319</td>\n",
       "    </tr>\n",
       "    <tr>\n",
       "      <th>52095</th>\n",
       "      <td>None</td>\n",
       "      <td>NaN</td>\n",
       "      <td>[]</td>\n",
       "      <td>[0.0024406752, 0.010759468, 0.0051381686, 0.00...</td>\n",
       "      <td>6.759057</td>\n",
       "      <td>1</td>\n",
       "      <td>-89.850319</td>\n",
       "    </tr>\n",
       "    <tr>\n",
       "      <th>52096</th>\n",
       "      <td>None</td>\n",
       "      <td>NaN</td>\n",
       "      <td>[headlines, worldwide, last, several, months, ...</td>\n",
       "      <td>[1.1243641, -0.07834104, 0.023869084, 0.257400...</td>\n",
       "      <td>-15.298838</td>\n",
       "      <td>1</td>\n",
       "      <td>-48.183254</td>\n",
       "    </tr>\n",
       "  </tbody>\n",
       "</table>\n",
       "<p>52097 rows × 7 columns</p>\n",
       "</div>"
      ],
      "text/plain": [
       "                                            sha pmcid  \\\n",
       "0      000b7d1517ceebb34e1e3e817695b6de03e2fa78   NaN   \n",
       "1      00142f93c18b07350be89e96372d240372437ed9   NaN   \n",
       "2      0022796bb2112abd2e6423ba2d57751db06049fb   NaN   \n",
       "3      0031e47b76374e05a18c266bd1a1140e5eacb54f   NaN   \n",
       "4      00326efcca0852dc6e39dc6b7786267e1bc4f194   NaN   \n",
       "...                                         ...   ...   \n",
       "52092                                      None   NaN   \n",
       "52093                                      None   NaN   \n",
       "52094                                      None   NaN   \n",
       "52095                                      None   NaN   \n",
       "52096                                      None   NaN   \n",
       "\n",
       "                                            index_tokens  \\\n",
       "0      [s1, phylogeny, sequences, belonging, umrv, ph...   \n",
       "1      [human, beings, constantly, exposed, myriad, p...   \n",
       "2      [pathogens, vectors, transported, rapidly, aro...   \n",
       "3      [a1111111111, a1111111111, a1111111111, a11111...   \n",
       "4      [addition, preventative, care, nutritional, su...   \n",
       "...                                                  ...   \n",
       "52092  [inactivated, virus, vaccines, inactivated, wk...   \n",
       "52093  [types, protein, microarrays, currently, types...   \n",
       "52094                                                 []   \n",
       "52095                                                 []   \n",
       "52096  [headlines, worldwide, last, several, months, ...   \n",
       "\n",
       "                                         document_vector  document_vector_2d  \\\n",
       "0      [0.56928027, -0.3666296, -0.20493843, 0.431051...           15.698082   \n",
       "1      [3.3664315, -2.1276946, 1.6158434, 0.9182286, ...           31.039991   \n",
       "2      [0.27237293, 0.15642405, 2.5503929, 1.1305904,...          -50.606564   \n",
       "3      [0.5768533, -3.854187, 0.072966725, 0.8637349,...          -69.332512   \n",
       "4      [1.3273811, 0.4609563, 3.068578, -0.50986123, ...          -18.875193   \n",
       "...                                                  ...                 ...   \n",
       "52092  [1.418982, -0.4864095, 0.19998026, 0.23552166,...            8.962655   \n",
       "52093  [-0.5313242, -1.7436063, 1.3774712, 0.01626098...           62.282139   \n",
       "52094  [0.0024406752, 0.010759468, 0.0051381686, 0.00...            9.226234   \n",
       "52095  [0.0024406752, 0.010759468, 0.0051381686, 0.00...            6.759057   \n",
       "52096  [1.1243641, -0.07834104, 0.023869084, 0.257400...          -15.298838   \n",
       "\n",
       "       cluster_id  document_vector_1d  \n",
       "0               1          -20.126677  \n",
       "1               5           28.878820  \n",
       "2               0          -54.790283  \n",
       "3               2           -7.735852  \n",
       "4               0          -64.668060  \n",
       "...           ...                 ...  \n",
       "52092           5           27.742414  \n",
       "52093           4           64.295235  \n",
       "52094           1          -89.850319  \n",
       "52095           1          -89.850319  \n",
       "52096           1          -48.183254  \n",
       "\n",
       "[52097 rows x 7 columns]"
      ]
     },
     "execution_count": 36,
     "metadata": {},
     "output_type": "execute_result"
    }
   ],
   "source": [
    "json_tokens"
   ]
  },
  {
   "cell_type": "markdown",
   "metadata": {},
   "source": [
    "## 7. Save Document Vectors"
   ]
  },
  {
   "cell_type": "code",
   "execution_count": 31,
   "metadata": {},
   "outputs": [],
   "source": [
    "docvector_savepath = Path(cord_support_dir()) / f'DocumentVectors_{VECTOR_SIZE}.pq'\n",
    "json_vectors = json_tokens[['sha', 'pmcid', 'document_vector', 'document_vector_2d', 'document_vector_1d', 'cluster_id']]\n",
    "json_vectors.to_parquet(Path(cord_support_dir()) / f'DocumentVectors_{VECTOR_SIZE}.pq')"
   ]
  },
  {
   "cell_type": "code",
   "execution_count": 33,
   "metadata": {},
   "outputs": [
    {
     "data": {
      "text/html": [
       "<div>\n",
       "<style scoped>\n",
       "    .dataframe tbody tr th:only-of-type {\n",
       "        vertical-align: middle;\n",
       "    }\n",
       "\n",
       "    .dataframe tbody tr th {\n",
       "        vertical-align: top;\n",
       "    }\n",
       "\n",
       "    .dataframe thead th {\n",
       "        text-align: right;\n",
       "    }\n",
       "</style>\n",
       "<table border=\"1\" class=\"dataframe\">\n",
       "  <thead>\n",
       "    <tr style=\"text-align: right;\">\n",
       "      <th></th>\n",
       "      <th>sha</th>\n",
       "      <th>pmcid</th>\n",
       "      <th>document_vector</th>\n",
       "      <th>document_vector_2d</th>\n",
       "      <th>document_vector_1d</th>\n",
       "      <th>cluster_id</th>\n",
       "    </tr>\n",
       "  </thead>\n",
       "  <tbody>\n",
       "    <tr>\n",
       "      <th>0</th>\n",
       "      <td>000b7d1517ceebb34e1e3e817695b6de03e2fa78</td>\n",
       "      <td>None</td>\n",
       "      <td>[0.56928027, -0.3666296, -0.20493843, 0.431051...</td>\n",
       "      <td>15.698082</td>\n",
       "      <td>-20.126677</td>\n",
       "      <td>1</td>\n",
       "    </tr>\n",
       "    <tr>\n",
       "      <th>1</th>\n",
       "      <td>00142f93c18b07350be89e96372d240372437ed9</td>\n",
       "      <td>None</td>\n",
       "      <td>[3.3664315, -2.1276946, 1.6158434, 0.9182286, ...</td>\n",
       "      <td>31.039991</td>\n",
       "      <td>28.878820</td>\n",
       "      <td>5</td>\n",
       "    </tr>\n",
       "    <tr>\n",
       "      <th>2</th>\n",
       "      <td>0022796bb2112abd2e6423ba2d57751db06049fb</td>\n",
       "      <td>None</td>\n",
       "      <td>[0.27237293, 0.15642405, 2.5503929, 1.1305904,...</td>\n",
       "      <td>-50.606564</td>\n",
       "      <td>-54.790283</td>\n",
       "      <td>0</td>\n",
       "    </tr>\n",
       "    <tr>\n",
       "      <th>3</th>\n",
       "      <td>0031e47b76374e05a18c266bd1a1140e5eacb54f</td>\n",
       "      <td>None</td>\n",
       "      <td>[0.5768533, -3.854187, 0.072966725, 0.8637349,...</td>\n",
       "      <td>-69.332512</td>\n",
       "      <td>-7.735852</td>\n",
       "      <td>2</td>\n",
       "    </tr>\n",
       "    <tr>\n",
       "      <th>4</th>\n",
       "      <td>00326efcca0852dc6e39dc6b7786267e1bc4f194</td>\n",
       "      <td>None</td>\n",
       "      <td>[1.3273811, 0.4609563, 3.068578, -0.50986123, ...</td>\n",
       "      <td>-18.875193</td>\n",
       "      <td>-64.668060</td>\n",
       "      <td>0</td>\n",
       "    </tr>\n",
       "    <tr>\n",
       "      <th>...</th>\n",
       "      <td>...</td>\n",
       "      <td>...</td>\n",
       "      <td>...</td>\n",
       "      <td>...</td>\n",
       "      <td>...</td>\n",
       "      <td>...</td>\n",
       "    </tr>\n",
       "    <tr>\n",
       "      <th>52092</th>\n",
       "      <td>None</td>\n",
       "      <td>None</td>\n",
       "      <td>[1.418982, -0.4864095, 0.19998026, 0.23552166,...</td>\n",
       "      <td>8.962655</td>\n",
       "      <td>27.742414</td>\n",
       "      <td>5</td>\n",
       "    </tr>\n",
       "    <tr>\n",
       "      <th>52093</th>\n",
       "      <td>None</td>\n",
       "      <td>None</td>\n",
       "      <td>[-0.5313242, -1.7436063, 1.3774712, 0.01626098...</td>\n",
       "      <td>62.282139</td>\n",
       "      <td>64.295235</td>\n",
       "      <td>4</td>\n",
       "    </tr>\n",
       "    <tr>\n",
       "      <th>52094</th>\n",
       "      <td>None</td>\n",
       "      <td>None</td>\n",
       "      <td>[0.0024406752, 0.010759468, 0.0051381686, 0.00...</td>\n",
       "      <td>9.226234</td>\n",
       "      <td>-89.850319</td>\n",
       "      <td>1</td>\n",
       "    </tr>\n",
       "    <tr>\n",
       "      <th>52095</th>\n",
       "      <td>None</td>\n",
       "      <td>None</td>\n",
       "      <td>[0.0024406752, 0.010759468, 0.0051381686, 0.00...</td>\n",
       "      <td>6.759057</td>\n",
       "      <td>-89.850319</td>\n",
       "      <td>1</td>\n",
       "    </tr>\n",
       "    <tr>\n",
       "      <th>52096</th>\n",
       "      <td>None</td>\n",
       "      <td>None</td>\n",
       "      <td>[1.1243641, -0.07834104, 0.023869084, 0.257400...</td>\n",
       "      <td>-15.298838</td>\n",
       "      <td>-48.183254</td>\n",
       "      <td>1</td>\n",
       "    </tr>\n",
       "  </tbody>\n",
       "</table>\n",
       "<p>52097 rows × 6 columns</p>\n",
       "</div>"
      ],
      "text/plain": [
       "                                            sha pmcid  \\\n",
       "0      000b7d1517ceebb34e1e3e817695b6de03e2fa78  None   \n",
       "1      00142f93c18b07350be89e96372d240372437ed9  None   \n",
       "2      0022796bb2112abd2e6423ba2d57751db06049fb  None   \n",
       "3      0031e47b76374e05a18c266bd1a1140e5eacb54f  None   \n",
       "4      00326efcca0852dc6e39dc6b7786267e1bc4f194  None   \n",
       "...                                         ...   ...   \n",
       "52092                                      None  None   \n",
       "52093                                      None  None   \n",
       "52094                                      None  None   \n",
       "52095                                      None  None   \n",
       "52096                                      None  None   \n",
       "\n",
       "                                         document_vector  document_vector_2d  \\\n",
       "0      [0.56928027, -0.3666296, -0.20493843, 0.431051...           15.698082   \n",
       "1      [3.3664315, -2.1276946, 1.6158434, 0.9182286, ...           31.039991   \n",
       "2      [0.27237293, 0.15642405, 2.5503929, 1.1305904,...          -50.606564   \n",
       "3      [0.5768533, -3.854187, 0.072966725, 0.8637349,...          -69.332512   \n",
       "4      [1.3273811, 0.4609563, 3.068578, -0.50986123, ...          -18.875193   \n",
       "...                                                  ...                 ...   \n",
       "52092  [1.418982, -0.4864095, 0.19998026, 0.23552166,...            8.962655   \n",
       "52093  [-0.5313242, -1.7436063, 1.3774712, 0.01626098...           62.282139   \n",
       "52094  [0.0024406752, 0.010759468, 0.0051381686, 0.00...            9.226234   \n",
       "52095  [0.0024406752, 0.010759468, 0.0051381686, 0.00...            6.759057   \n",
       "52096  [1.1243641, -0.07834104, 0.023869084, 0.257400...          -15.298838   \n",
       "\n",
       "       document_vector_1d  cluster_id  \n",
       "0              -20.126677           1  \n",
       "1               28.878820           5  \n",
       "2              -54.790283           0  \n",
       "3               -7.735852           2  \n",
       "4              -64.668060           0  \n",
       "...                   ...         ...  \n",
       "52092           27.742414           5  \n",
       "52093           64.295235           4  \n",
       "52094          -89.850319           1  \n",
       "52095          -89.850319           1  \n",
       "52096          -48.183254           1  \n",
       "\n",
       "[52097 rows x 6 columns]"
      ]
     },
     "execution_count": 33,
     "metadata": {},
     "output_type": "execute_result"
    }
   ],
   "source": [
    "pd.read_parquet(docvector_savepath)"
   ]
  }
 ],
 "metadata": {
  "kernelspec": {
   "display_name": "cord",
   "language": "python",
   "name": "cord"
  },
  "language_info": {
   "codemirror_mode": {
    "name": "ipython",
    "version": 3
   },
   "file_extension": ".py",
   "mimetype": "text/x-python",
   "name": "python",
   "nbconvert_exporter": "python",
   "pygments_lexer": "ipython3",
   "version": "3.7.0"
  }
 },
 "nbformat": 4,
 "nbformat_minor": 4
}
