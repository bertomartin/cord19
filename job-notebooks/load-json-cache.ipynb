{
 "cells": [
  {
   "cell_type": "markdown",
   "metadata": {},
   "source": [
    "# Load JSON Cache"
   ]
  },
  {
   "cell_type": "code",
   "execution_count": 1,
   "metadata": {},
   "outputs": [],
   "source": [
    "from pathlib import Path, PurePath\n",
    "from cord.core import find_data_dir, parallel, JSON_CATALOGS, BIORXIV_MEDRXIV, COMM_USE_SUBSET, CUSTOM_LICENSE\n",
    "import pandas as pd\n",
    "import pickle\n",
    "from gensim.corpora.dictionary import Dictionary"
   ]
  },
  {
   "cell_type": "code",
   "execution_count": 3,
   "metadata": {},
   "outputs": [
    {
     "name": "stdout",
     "output_type": "stream",
     "text": [
      "Loading json cache files for custom_license\n"
     ]
    },
    {
     "data": {
      "application/vnd.jupyter.widget-view+json": {
       "model_id": "5225efc1dc934415a4849590f8966e34",
       "version_major": 2,
       "version_minor": 0
      },
      "text/plain": [
       "HBox(children=(FloatProgress(value=0.0, max=14.0), HTML(value='')))"
      ]
     },
     "metadata": {},
     "output_type": "display_data"
    }
   ],
   "source": [
    "json_cache_dir = Path(find_data_dir()).parent / 'json_cache'\n",
    "\n",
    "def load_dictionary(catalog):\n",
    "    dictionary_path = json_cache_dir / f'jsoncache_{catalog}.dict'\n",
    "    dictionary = Dictionary.load((str(dictionary_path.resolve())))\n",
    "    return dictionary\n",
    "\n",
    "def load_json_cache(catalog):\n",
    "    print('Loading json cache files for', catalog)\n",
    "    json_cache_dir = Path(find_data_dir()).parent / 'json_cache'\n",
    "    file_paths = [PurePath(p) for p in  json_cache_dir.glob(f'jsoncache_{catalog}*.pq')]\n",
    "    if len(file_paths) == 1:\n",
    "        json_cache = pd.read_parquet(file_paths[0])\n",
    "    else:\n",
    "        dfs = parallel(pd.read_parquet, file_paths)\n",
    "        json_cache = pd.concat(dfs, ignore_index=True)\n",
    "    dictionary:Dictionary = load_dictionary(catalog)\n",
    "    json_cache['index_tokens'] \\\n",
    "        = json_cache.token_int.apply(lambda token_int: [dictionary[ti] for ti in token_int])\n",
    "    return json_cache.drop(columns=['token_int'])\n",
    "\n",
    "json_cache = load_json_cache(CUSTOM_LICENSE)"
   ]
  },
  {
   "cell_type": "code",
   "execution_count": 47,
   "metadata": {},
   "outputs": [
    {
     "name": "stdout",
     "output_type": "stream",
     "text": [
      "Loading from comm_use_subset\n",
      "Loading json cache files for comm_use_subset\n"
     ]
    },
    {
     "data": {
      "application/vnd.jupyter.widget-view+json": {
       "model_id": "06fe82d764914ad5a7bb66dbb6697732",
       "version_major": 2,
       "version_minor": 0
      },
      "text/plain": [
       "HBox(children=(FloatProgress(value=0.0, max=5.0), HTML(value='')))"
      ]
     },
     "metadata": {},
     "output_type": "display_data"
    },
    {
     "name": "stdout",
     "output_type": "stream",
     "text": [
      "\n",
      "Loading from biorxiv_medrxiv\n",
      "Loading json cache files for biorxiv_medrxiv\n",
      "Loading from noncomm_use_subset\n",
      "Loading json cache files for noncomm_use_subset\n",
      "Loading from custom_license\n",
      "Loading json cache files for custom_license\n"
     ]
    },
    {
     "data": {
      "application/vnd.jupyter.widget-view+json": {
       "model_id": "aa322cf3ebdb40558d58fcf970142a72",
       "version_major": 2,
       "version_minor": 0
      },
      "text/plain": [
       "HBox(children=(FloatProgress(value=0.0, max=11.0), HTML(value='')))"
      ]
     },
     "metadata": {},
     "output_type": "display_data"
    }
   ],
   "source": [
    "sha_dfs = []\n",
    "for catalog in JSON_CATALOGS:\n",
    "    print('Loading from', catalog)\n",
    "    df = load_json_cache(json_cache_dir, catalog).drop(columns=['index_tokens'])\n",
    "    sha_dfs.append(df)\n",
    "    \n",
    "sha_df = pd.concat(sha_dfs, ignore_index=True)"
   ]
  },
  {
   "cell_type": "code",
   "execution_count": 67,
   "metadata": {},
   "outputs": [
    {
     "data": {
      "text/html": [
       "<div>\n",
       "<style scoped>\n",
       "    .dataframe tbody tr th:only-of-type {\n",
       "        vertical-align: middle;\n",
       "    }\n",
       "\n",
       "    .dataframe tbody tr th {\n",
       "        vertical-align: top;\n",
       "    }\n",
       "\n",
       "    .dataframe thead th {\n",
       "        text-align: right;\n",
       "    }\n",
       "</style>\n",
       "<table border=\"1\" class=\"dataframe\">\n",
       "  <thead>\n",
       "    <tr style=\"text-align: right;\">\n",
       "      <th></th>\n",
       "      <th>sha</th>\n",
       "    </tr>\n",
       "  </thead>\n",
       "  <tbody>\n",
       "  </tbody>\n",
       "</table>\n",
       "</div>"
      ],
      "text/plain": [
       "Empty DataFrame\n",
       "Columns: [sha]\n",
       "Index: []"
      ]
     },
     "execution_count": 67,
     "metadata": {},
     "output_type": "execute_result"
    }
   ],
   "source": [
    "SHA_LEN = 8\n",
    "duplicated = sha_df.sha.apply(lambda sha: sha[:SHA_LEN]).duplicated(keep=False)\n",
    "sha_df[duplicated]"
   ]
  },
  {
   "cell_type": "code",
   "execution_count": 57,
   "metadata": {},
   "outputs": [
    {
     "data": {
      "text/plain": [
       "33375"
      ]
     },
     "execution_count": 57,
     "metadata": {},
     "output_type": "execute_result"
    }
   ],
   "source": [
    "len(sha_df)"
   ]
  },
  {
   "cell_type": "code",
   "execution_count": 68,
   "metadata": {},
   "outputs": [
    {
     "data": {
      "text/plain": [
       "3161.6240234375"
      ]
     },
     "execution_count": 68,
     "metadata": {},
     "output_type": "execute_result"
    }
   ],
   "source": [
    "sha_df.sha.memory_usage(deep=True) / 1024"
   ]
  },
  {
   "cell_type": "code",
   "execution_count": 69,
   "metadata": {},
   "outputs": [
    {
     "data": {
      "text/plain": [
       "2118.6552734375"
      ]
     },
     "execution_count": 69,
     "metadata": {},
     "output_type": "execute_result"
    }
   ],
   "source": [
    "sha_df.sha.apply(lambda sha: sha[:SHA_LEN]).memory_usage(deep=True) / 1024"
   ]
  },
  {
   "cell_type": "code",
   "execution_count": null,
   "metadata": {},
   "outputs": [],
   "source": []
  }
 ],
 "metadata": {
  "kernelspec": {
   "display_name": "cord",
   "language": "python",
   "name": "cord"
  },
  "language_info": {
   "codemirror_mode": {
    "name": "ipython",
    "version": 3
   },
   "file_extension": ".py",
   "mimetype": "text/x-python",
   "name": "python",
   "nbconvert_exporter": "python",
   "pygments_lexer": "ipython3",
   "version": "3.7.0"
  }
 },
 "nbformat": 4,
 "nbformat_minor": 4
}
