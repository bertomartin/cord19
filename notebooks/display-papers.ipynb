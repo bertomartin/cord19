{
 "cells": [
  {
   "cell_type": "markdown",
   "metadata": {},
   "source": [
    "## Display Papers"
   ]
  },
  {
   "cell_type": "code",
   "execution_count": 3,
   "metadata": {},
   "outputs": [
    {
     "name": "stdout",
     "output_type": "stream",
     "text": [
      "Loading metadata from ..\\data\\CORD-19-research-challenge\n",
      "Cleaning metadata\n",
      "Applying tags to metadata\n",
      "\n",
      "Indexing research papers\n",
      "Creating the BM25 index from the text contents of the papers\n",
      "Loading json cache files for comm_use_subset\n",
      "Loaded comm_use_subset json cache in 17 seconds\n",
      "Loading json cache files for biorxiv_medrxiv\n",
      "Loaded biorxiv_medrxiv json cache in 2 seconds\n",
      "Loading json cache files for noncomm_use_subset\n",
      "Loaded noncomm_use_subset json cache in 3 seconds\n",
      "Loading json cache files for custom_license\n",
      "Loaded custom_license json cache in 61 seconds\n",
      "There are 12714 papers that will be indexed using the abstract instead of the contents\n",
      "Finished indexing in 93 seconds\n"
     ]
    }
   ],
   "source": [
    "research_papers = ResearchPapers.load()\n",
    "#research_papers.save()\n",
    "#research_papers = ResearchPapers.from_pickle(find_data_dir())"
   ]
  },
  {
   "cell_type": "code",
   "execution_count": 2,
   "metadata": {},
   "outputs": [
    {
     "name": "stdout",
     "output_type": "stream",
     "text": [
      "The autoreload extension is already loaded. To reload it, use:\n",
      "  %reload_ext autoreload\n"
     ]
    }
   ],
   "source": [
    "%load_ext autoreload\n",
    "%autoreload 2\n",
    "from cord import ResearchPapers\n",
    "import pandas as pd\n",
    "from IPython.display import display\n",
    "pd.options.display.max_colwidth=200"
   ]
  },
  {
   "cell_type": "code",
   "execution_count": 17,
   "metadata": {},
   "outputs": [
    {
     "data": {
      "text/html": [
       "<style  type=\"text/css\" >\n",
       "    #T_2a1764e8_77a2_11ea_a7f7_7470fd726a2erow0_col0 {\n",
       "            font-size:  1.1em;\n",
       "             color:  #008B8B;\n",
       "             font-weight:  bold;\n",
       "        }    #T_2a1764e8_77a2_11ea_a7f7_7470fd726a2erow1_col0 {\n",
       "            font-size:  1.1em;\n",
       "             color:  #008B8B;\n",
       "             font-weight:  bold;\n",
       "        }    #T_2a1764e8_77a2_11ea_a7f7_7470fd726a2erow2_col0 {\n",
       "            font-size:  1.1em;\n",
       "             color:  #008B8B;\n",
       "             font-weight:  bold;\n",
       "        }    #T_2a1764e8_77a2_11ea_a7f7_7470fd726a2erow3_col0 {\n",
       "            font-size:  1.1em;\n",
       "             color:  #008B8B;\n",
       "             font-weight:  bold;\n",
       "        }    #T_2a1764e8_77a2_11ea_a7f7_7470fd726a2erow4_col0 {\n",
       "            font-size:  1.1em;\n",
       "             color:  #008B8B;\n",
       "             font-weight:  bold;\n",
       "        }    #T_2a1764e8_77a2_11ea_a7f7_7470fd726a2erow5_col0 {\n",
       "            font-size:  1.1em;\n",
       "             color:  #008B8B;\n",
       "             font-weight:  bold;\n",
       "        }</style><table id=\"T_2a1764e8_77a2_11ea_a7f7_7470fd726a2e\" ><thead>    <tr>        <th class=\"col_heading level0 col0\" >title</th>        <th class=\"col_heading level0 col1\" >summary</th>        <th class=\"col_heading level0 col2\" >when</th>        <th class=\"col_heading level0 col3\" >cord_uid</th>    </tr></thead><tbody>\n",
       "                <tr>\n",
       "                                <td id=\"T_2a1764e8_77a2_11ea_a7f7_7470fd726a2erow0_col0\" class=\"data row0 col0\" >Surveillance to improve evidence for community control decisions during the COVID-19 pandemic – Opening the animal epidemic toolbox for public health</td>\n",
       "                        <td id=\"T_2a1764e8_77a2_11ea_a7f7_7470fd726a2erow0_col1\" class=\"data row0 col1\" >During the first few months of 2020, the COVID-19 pandemic has reached Europe.\n",
       "Health systems all over the world are trying to control the outbreak in the shortest possible time.\n",
       "Exotic disease outbreaks are not uncommon in animal health and randomised surveillance is frequently used as support for decision-making.\n",
       "This editorial discusses the possibilities of practicing One Health, by using methods from animal health to enhance surveillance for COVID-19 to provide an evidence base fort decision-making in communities and countries.</td>\n",
       "                        <td id=\"T_2a1764e8_77a2_11ea_a7f7_7470fd726a2erow0_col2\" class=\"data row0 col2\" >1 week ago</td>\n",
       "                        <td id=\"T_2a1764e8_77a2_11ea_a7f7_7470fd726a2erow0_col3\" class=\"data row0 col3\" >5j4nt2qs</td>\n",
       "            </tr>\n",
       "            <tr>\n",
       "                                <td id=\"T_2a1764e8_77a2_11ea_a7f7_7470fd726a2erow1_col0\" class=\"data row1 col0\" >A systematic approach is needed to contain COVID-19 globally</td>\n",
       "                        <td id=\"T_2a1764e8_77a2_11ea_a7f7_7470fd726a2erow1_col1\" class=\"data row1 col1\" >A systematic approach is needed to contain COVID-19 globally</td>\n",
       "                        <td id=\"T_2a1764e8_77a2_11ea_a7f7_7470fd726a2erow1_col2\" class=\"data row1 col2\" >2 weeks ago</td>\n",
       "                        <td id=\"T_2a1764e8_77a2_11ea_a7f7_7470fd726a2erow1_col3\" class=\"data row1 col3\" >oto8tdui</td>\n",
       "            </tr>\n",
       "            <tr>\n",
       "                                <td id=\"T_2a1764e8_77a2_11ea_a7f7_7470fd726a2erow2_col0\" class=\"data row2 col0\" >Earlier detection of public health risks – Health policy lessons for better compliance with the International Health Regulations (IHR 2005): Insights from low-, mid- and high-income countries</td>\n",
       "                        <td id=\"T_2a1764e8_77a2_11ea_a7f7_7470fd726a2erow2_col1\" class=\"data row2 col1\" >The Israeli Ministry of Health/IHR National Focal Point held a workshop to elucidate health system conditions and their influencing factors that enable earlier detection.\n",
       "The workshop methodology employed a stepwise, small working group analysis approach to elucidate the conditions and their influencing factors affecting each stage of recognition, assessment, and reporting of infectious disease outbreaks, at the local, regional and national levels.\n",
       "In order to detect public health risks earlier, the detection process needs to be moved closer to the local communities and start with building capacity within communities.\n",
       "Building capacity and engaging with local and diverse communities requires significant changes in the governance approach and include information sharing, multi-sectoral communication and coordination across various levels before, during and after public health emergencies.</td>\n",
       "                        <td id=\"T_2a1764e8_77a2_11ea_a7f7_7470fd726a2erow2_col2\" class=\"data row2 col2\" >5 months ago</td>\n",
       "                        <td id=\"T_2a1764e8_77a2_11ea_a7f7_7470fd726a2erow2_col3\" class=\"data row2 col3\" >z86ruwxe</td>\n",
       "            </tr>\n",
       "            <tr>\n",
       "                                <td id=\"T_2a1764e8_77a2_11ea_a7f7_7470fd726a2erow3_col0\" class=\"data row3 col0\" >Health Inequalities and Infectious Disease Epidemics: A Challenge for Global Health Security</td>\n",
       "                        <td id=\"T_2a1764e8_77a2_11ea_a7f7_7470fd726a2erow3_col1\" class=\"data row3 col1\" >Yet, to date, studies of influenza pandemic plans across multiple countries find little to no recognition of health inequalities or attempts to engage disadvantaged populations to explicitly address the differential impact of a pandemic on them.\n",
       "To meet the goals and objectives of the Global Health Security Agenda, we argue that international partners, from WHO to individual countries, must grapple with the social determinants of health and existing health inequalities and extend their vision to include these factors so that disease that may start among socially disadvantaged subpopulations does not go unnoticed and spread across borders.\n",
       "Without explicit attention to existing health inequalities and underlying social determinants of health, the Global Health Security Agenda is unlikely to succeed in its goals and objectives.</td>\n",
       "                        <td id=\"T_2a1764e8_77a2_11ea_a7f7_7470fd726a2erow3_col2\" class=\"data row3 col2\" >6 years ago</td>\n",
       "                        <td id=\"T_2a1764e8_77a2_11ea_a7f7_7470fd726a2erow3_col3\" class=\"data row3 col3\" >350d3be2</td>\n",
       "            </tr>\n",
       "            <tr>\n",
       "                                <td id=\"T_2a1764e8_77a2_11ea_a7f7_7470fd726a2erow4_col0\" class=\"data row4 col0\" >Towards a conceptual framework to support one-health research for policy on emerging zoonoses</td>\n",
       "                        <td id=\"T_2a1764e8_77a2_11ea_a7f7_7470fd726a2erow4_col1\" class=\"data row4 col1\" >In the past two decades there has been a growing realisation that the livestock sector was in a process of change, resulting from an expansion of intensive animal production systems and trade to meet a globalised world's increasing demand for livestock products.\n",
       "Concurrent with changes in the livestock sector, contact with wildlife has increased.\n",
       "This development has increased the risk of transmission of infections from wildlife to human beings and livestock.\n",
       "A clear conceptual research framework can provide a guide to ensure a research strategy that coherently links to the overarching goals of policy makers.\n",
       "We propose such a new framework in support of a research and policy-generation strategy to help to address the challenges posed by emerging zoonoses.</td>\n",
       "                        <td id=\"T_2a1764e8_77a2_11ea_a7f7_7470fd726a2erow4_col2\" class=\"data row4 col2\" >9 years ago</td>\n",
       "                        <td id=\"T_2a1764e8_77a2_11ea_a7f7_7470fd726a2erow4_col3\" class=\"data row4 col3\" >y0jpdzua</td>\n",
       "            </tr>\n",
       "            <tr>\n",
       "                                <td id=\"T_2a1764e8_77a2_11ea_a7f7_7470fd726a2erow5_col0\" class=\"data row5 col0\" >Influenza pandemic preparedness and severity assessment of pandemic (H1N1) 2009 in South-east Asia</td>\n",
       "                        <td id=\"T_2a1764e8_77a2_11ea_a7f7_7470fd726a2erow5_col1\" class=\"data row5 col1\" >Pandemic (H1N1) 2009 poses a serious global health threat.\n",
       "However, the global impact of this new pandemic remains uncertain.\n",
       "Past pandemics had different impacts on mortality which varied between countries.\n",
       "Several countries in South-east Asia have already developed their national pandemic preparedness plans.\n",
       "There are several factors that can potentially affect the severity of pandemic (H1N1) 2009, including a population's vulnerability and response capacity.\n",
       "The overall impact of pandemic (H1N1) 2009 remains unknown and it is difficult to assess its severity.\n",
       "However, there is an urgent need to assess its potential severity based on the available data so that appropriate responses can be provided in order to mitigate its impact.</td>\n",
       "                        <td id=\"T_2a1764e8_77a2_11ea_a7f7_7470fd726a2erow5_col2\" class=\"data row5 col2\" >10 years ago</td>\n",
       "                        <td id=\"T_2a1764e8_77a2_11ea_a7f7_7470fd726a2erow5_col3\" class=\"data row5 col3\" >fhp5f78b</td>\n",
       "            </tr>\n",
       "    </tbody></table>"
      ],
      "text/plain": [
       "<pandas.io.formats.style.Styler at 0x21b96a7e5c0>"
      ]
     },
     "execution_count": 17,
     "metadata": {},
     "output_type": "execute_result"
    }
   ],
   "source": [
    "\n",
    "research_papers.similar_to('350d3be2')"
   ]
  },
  {
   "cell_type": "code",
   "execution_count": 13,
   "metadata": {},
   "outputs": [],
   "source": [
    "research_papers.display??"
   ]
  },
  {
   "cell_type": "code",
   "execution_count": 35,
   "metadata": {},
   "outputs": [
    {
     "data": {
      "text/plain": [
       "[(2, 4)]"
      ]
     },
     "execution_count": 35,
     "metadata": {},
     "output_type": "execute_result"
    }
   ],
   "source": [
    "listify((2,4))"
   ]
  },
  {
   "cell_type": "code",
   "execution_count": 38,
   "metadata": {},
   "outputs": [
    {
     "data": {
      "text/plain": [
       "[37666, 5017, 15769, 15992, 14623, 8510]"
      ]
     },
     "execution_count": 38,
     "metadata": {},
     "output_type": "execute_result"
    }
   ],
   "source": [
    "similar_papers('350d3be2')"
   ]
  },
  {
   "cell_type": "code",
   "execution_count": null,
   "metadata": {},
   "outputs": [],
   "source": []
  }
 ],
 "metadata": {
  "kernelspec": {
   "display_name": "cord",
   "language": "python",
   "name": "cord"
  },
  "language_info": {
   "codemirror_mode": {
    "name": "ipython",
    "version": 3
   },
   "file_extension": ".py",
   "mimetype": "text/x-python",
   "name": "python",
   "nbconvert_exporter": "python",
   "pygments_lexer": "ipython3",
   "version": "3.7.0"
  }
 },
 "nbformat": 4,
 "nbformat_minor": 4
}
